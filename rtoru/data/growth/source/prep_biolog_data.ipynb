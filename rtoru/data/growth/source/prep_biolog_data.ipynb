{
 "cells": [
  {
   "cell_type": "code",
   "execution_count": null,
   "id": "ba653212",
   "metadata": {
    "pycharm": {
     "name": "#%%\n"
    }
   },
   "outputs": [],
   "source": [
    "import pandas as pd"
   ]
  },
  {
   "cell_type": "code",
   "execution_count": null,
   "id": "96b22ef0",
   "metadata": {
    "pycharm": {
     "name": "#%%\n"
    }
   },
   "outputs": [],
   "source": [
    "from rtoru import model as rt\n",
    "\n",
    "exchanges = set(i.id for i in rt.exchanges)"
   ]
  },
  {
   "cell_type": "code",
   "execution_count": null,
   "id": "effab21f",
   "metadata": {
    "pycharm": {
     "name": "#%%\n"
    }
   },
   "outputs": [],
   "source": [
    "from concerto.helpers.biolog_to_exchange import biolog_map"
   ]
  },
  {
   "cell_type": "code",
   "execution_count": null,
   "id": "4104c72d",
   "metadata": {
    "pycharm": {
     "name": "#%%\n"
    }
   },
   "outputs": [],
   "source": [
    "fname = 'Table_2_Multi-Omics Driven Metabolic Network Reconstruction and Analysis of Lignocellulosic Carbon Utilization in Rhodosporidium toruloides.XLSX'\n",
    "\n",
    "bl_data = pd.read_excel(fname, sheet_name='Biolog')\n",
    "bl_data['growth'] = bl_data['Average > 0.1 and all replicates greater than negative control']"
   ]
  },
  {
   "cell_type": "code",
   "execution_count": null,
   "id": "2c4d240c",
   "metadata": {
    "pycharm": {
     "name": "#%%\n"
    }
   },
   "outputs": [],
   "source": [
    "bl_data.PlateType.unique()"
   ]
  },
  {
   "cell_type": "code",
   "execution_count": null,
   "id": "01cfa3af",
   "metadata": {
    "pycharm": {
     "name": "#%%\n"
    }
   },
   "outputs": [],
   "source": [
    "biolog_map"
   ]
  },
  {
   "cell_type": "code",
   "execution_count": null,
   "id": "4dcd66d1",
   "metadata": {
    "pycharm": {
     "name": "#%%\n"
    }
   },
   "outputs": [],
   "source": [
    "bl_data['plate'] = bl_data.PlateType + '-' + bl_data.Well\n",
    "bl_data.growth = bl_data.growth.astype(bool)\n",
    "bl_data.head()"
   ]
  },
  {
   "cell_type": "code",
   "execution_count": null,
   "id": "454feaac",
   "metadata": {
    "pycharm": {
     "name": "#%%\n"
    }
   },
   "outputs": [],
   "source": [
    "bl_data.PlateType.unique()"
   ]
  },
  {
   "cell_type": "code",
   "execution_count": null,
   "id": "82fb6072",
   "metadata": {
    "pycharm": {
     "name": "#%%\n"
    }
   },
   "outputs": [],
   "source": [
    "bl_data.Experiment.unique()"
   ]
  },
  {
   "cell_type": "code",
   "execution_count": null,
   "id": "301e1c29",
   "metadata": {
    "pycharm": {
     "name": "#%%\n"
    }
   },
   "outputs": [],
   "source": [
    "carbon_plate = bl_data.loc[bl_data.PlateType.isin(['PM1', 'PM2'])].copy()\n",
    "nitrogren_plate = bl_data.loc[bl_data.PlateType.isin(['PM3B'])].copy()\n",
    "nitrogren_plate.plate = nitrogren_plate.plate.str.replace('B', '')\n",
    "\n",
    "phosh_plate =  bl_data.loc[bl_data.Experiment.isin(['Phosphorus'])].copy()\n",
    "phosh_plate.plate = phosh_plate.plate.str.replace('A', '')\n",
    "\n",
    "sulfer_plate =  bl_data.loc[bl_data.Experiment.isin(['Sulfur'])].copy()\n",
    "sulfer_plate.plate = sulfer_plate.plate.str.replace('A', '')"
   ]
  },
  {
   "cell_type": "code",
   "execution_count": null,
   "id": "a6dc8fb9",
   "metadata": {
    "pycharm": {
     "name": "#%%\n"
    }
   },
   "outputs": [],
   "source": [
    "sulfer_plate.head(5)"
   ]
  },
  {
   "cell_type": "code",
   "execution_count": null,
   "id": "0e850ed0",
   "metadata": {
    "pycharm": {
     "name": "#%%\n"
    }
   },
   "outputs": [],
   "source": [
    "nitrogren_plate[['plate', 'Compound', 'growth']]"
   ]
  },
  {
   "cell_type": "code",
   "execution_count": null,
   "id": "a931b90c",
   "metadata": {
    "pycharm": {
     "name": "#%%\n"
    }
   },
   "outputs": [],
   "source": [
    "biolog_map"
   ]
  },
  {
   "cell_type": "code",
   "execution_count": null,
   "id": "1116422d",
   "metadata": {
    "pycharm": {
     "name": "#%%\n"
    }
   },
   "outputs": [],
   "source": [
    "def merge_with_plate(plate):\n",
    "    merged = pd.concat(\n",
    "        [plate.set_index('plate'), biolog_map.set_index('plate')],\n",
    "        axis=1,\n",
    "        ignore_index=False\n",
    "    )\n",
    "    merged.dropna(subset=['growth', 'ex_rxn'], inplace=True)\n",
    "\n",
    "    merged = merged.reset_index()\n",
    "    merged#[['exchange', 'growth']]\n",
    "    merged = subset_to_in_model(merged)[['exchange', 'growth']]\n",
    "    merged['uptake'] = 10\n",
    "    return merged\n",
    "\n",
    "def subset_to_in_model(plate, model_ex=exchanges):\n",
    "    return plate.loc[plate.exchange.isin(model_ex)]\n",
    "\n",
    "carbon = merge_with_plate(carbon_plate)\n",
    "nit = merge_with_plate(nitrogren_plate)\n",
    "sulf = merge_with_plate(sulfer_plate)\n",
    "phos = merge_with_plate(phosh_plate)"
   ]
  },
  {
   "cell_type": "code",
   "execution_count": null,
   "id": "199aaf07",
   "metadata": {
    "pycharm": {
     "name": "#%%\n"
    }
   },
   "outputs": [],
   "source": [
    "sulf"
   ]
  },
  {
   "cell_type": "code",
   "execution_count": null,
   "id": "2d3ab22c",
   "metadata": {
    "pycharm": {
     "name": "#%%\n"
    }
   },
   "outputs": [],
   "source": [
    "phos"
   ]
  },
  {
   "cell_type": "code",
   "execution_count": null,
   "id": "87fc4df7",
   "metadata": {
    "pycharm": {
     "name": "#%%\n"
    }
   },
   "outputs": [],
   "source": [
    "carbon.to_csv('../carbon_biolog.csv', index=False)\n",
    "nit.to_csv('../nit_biolog.csv', index=False)\n",
    "phos.to_csv('../phos_biolog.csv', index=False)\n",
    "sulf.to_csv('../sulf_biolog.csv', index=False)"
   ]
  },
  {
   "cell_type": "code",
   "execution_count": null,
   "id": "65accbba",
   "metadata": {},
   "outputs": [],
   "source": []
  }
 ],
 "metadata": {
  "kernelspec": {
   "display_name": "Python 3 (ipykernel)",
   "language": "python",
   "name": "python3"
  },
  "language_info": {
   "codemirror_mode": {
    "name": "ipython",
    "version": 3
   },
   "file_extension": ".py",
   "mimetype": "text/x-python",
   "name": "python",
   "nbconvert_exporter": "python",
   "pygments_lexer": "ipython3",
   "version": "3.10.6"
  }
 },
 "nbformat": 4,
 "nbformat_minor": 5
}
