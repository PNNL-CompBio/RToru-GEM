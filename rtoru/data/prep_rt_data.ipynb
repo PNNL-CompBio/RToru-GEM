{
 "cells": [
  {
   "cell_type": "code",
   "execution_count": null,
   "id": "ba653212",
   "metadata": {
    "pycharm": {
     "name": "#%%\n"
    }
   },
   "outputs": [],
   "source": [
    "import pandas as pd\n",
    "import re\n",
    "import os\n",
    "import numpy as np"
   ]
  },
  {
   "cell_type": "code",
   "execution_count": null,
   "id": "96b22ef0",
   "metadata": {
    "pycharm": {
     "name": "#%%\n"
    }
   },
   "outputs": [],
   "source": [
    "from rtoru import model as rt\n",
    "\n",
    "exchanges = set(i.id for i in rt.exchanges)"
   ]
  },
  {
   "cell_type": "code",
   "execution_count": null,
   "id": "effab21f",
   "metadata": {
    "pycharm": {
     "name": "#%%\n"
    }
   },
   "outputs": [],
   "source": [
    "from concerto.helpers.biolog_to_exchange import biolog_map"
   ]
  },
  {
   "cell_type": "code",
   "execution_count": null,
   "id": "4104c72d",
   "metadata": {
    "pycharm": {
     "name": "#%%\n"
    }
   },
   "outputs": [],
   "source": [
    "fname = 'raw_data/Table_2_Multi-Omics Driven Metabolic Network Reconstruction and Analysis of Lignocellulosic Carbon Utilization in Rhodosporidium toruloides.XLSX'\n",
    "\n",
    "bl_data = pd.read_excel(fname, sheet_name='Biolog')\n",
    "bl_data['growth'] = bl_data['Average > 0.1 and all replicates greater than negative control']"
   ]
  },
  {
   "cell_type": "code",
   "execution_count": null,
   "id": "2c4d240c",
   "metadata": {
    "pycharm": {
     "name": "#%%\n"
    }
   },
   "outputs": [],
   "source": [
    "bl_data.PlateType.unique()"
   ]
  },
  {
   "cell_type": "code",
   "execution_count": null,
   "id": "01cfa3af",
   "metadata": {
    "pycharm": {
     "name": "#%%\n"
    }
   },
   "outputs": [],
   "source": [
    "biolog_map"
   ]
  },
  {
   "cell_type": "code",
   "execution_count": null,
   "id": "4dcd66d1",
   "metadata": {
    "pycharm": {
     "name": "#%%\n"
    }
   },
   "outputs": [],
   "source": [
    "bl_data['plate'] = bl_data.PlateType + '-' + bl_data.Well\n",
    "bl_data.growth = bl_data.growth.astype(bool)\n",
    "bl_data.head()"
   ]
  },
  {
   "cell_type": "code",
   "execution_count": null,
   "id": "454feaac",
   "metadata": {
    "pycharm": {
     "name": "#%%\n"
    }
   },
   "outputs": [],
   "source": [
    "bl_data.PlateType.unique()"
   ]
  },
  {
   "cell_type": "code",
   "execution_count": null,
   "id": "82fb6072",
   "metadata": {
    "pycharm": {
     "name": "#%%\n"
    }
   },
   "outputs": [],
   "source": [
    "bl_data.Experiment.unique()"
   ]
  },
  {
   "cell_type": "code",
   "execution_count": null,
   "id": "301e1c29",
   "metadata": {
    "pycharm": {
     "name": "#%%\n"
    }
   },
   "outputs": [],
   "source": [
    "carbon_plate = bl_data.loc[bl_data.PlateType.isin(['PM1', 'PM2'])].copy()\n",
    "nitrogren_plate = bl_data.loc[bl_data.PlateType.isin(['PM3B'])].copy()\n",
    "nitrogren_plate.plate = nitrogren_plate.plate.str.replace('B', '')\n",
    "\n",
    "phosh_plate =  bl_data.loc[bl_data.Experiment.isin(['Phosphorus'])].copy()\n",
    "phosh_plate.plate = phosh_sulfer_plate.plate.str.replace('A', '')\n",
    "\n",
    "sulfer_plate =  bl_data.loc[bl_data.Experiment.isin(['Sulfur'])].copy()\n",
    "sulfer_plate.plate = phosh_sulfer_plate.plate.str.replace('A', '')"
   ]
  },
  {
   "cell_type": "code",
   "execution_count": 65,
   "id": "a6dc8fb9",
   "metadata": {
    "pycharm": {
     "name": "#%%\n"
    }
   },
   "outputs": [
    {
     "data": {
      "text/html": [
       "<div>\n",
       "<style scoped>\n",
       "    .dataframe tbody tr th:only-of-type {\n",
       "        vertical-align: middle;\n",
       "    }\n",
       "\n",
       "    .dataframe tbody tr th {\n",
       "        vertical-align: top;\n",
       "    }\n",
       "\n",
       "    .dataframe thead th {\n",
       "        text-align: right;\n",
       "    }\n",
       "</style>\n",
       "<table border=\"1\" class=\"dataframe\">\n",
       "  <thead>\n",
       "    <tr style=\"text-align: right;\">\n",
       "      <th></th>\n",
       "      <th>PlateType</th>\n",
       "      <th>Experiment</th>\n",
       "      <th>Well</th>\n",
       "      <th>Compound</th>\n",
       "      <th>Average ABS (590nm - 750nm)</th>\n",
       "      <th>All replicates &gt; negtive control</th>\n",
       "      <th>Average &gt; 0.1</th>\n",
       "      <th>Average &gt; 0.1 and all replicates greater than negative control</th>\n",
       "      <th>pVal (T-test)</th>\n",
       "      <th>growth</th>\n",
       "      <th>plate</th>\n",
       "    </tr>\n",
       "  </thead>\n",
       "  <tbody>\n",
       "    <tr>\n",
       "      <th>348</th>\n",
       "      <td>PM4A</td>\n",
       "      <td>Sulfur</td>\n",
       "      <td>F1</td>\n",
       "      <td>Negative Control</td>\n",
       "      <td>0.078800</td>\n",
       "      <td>False</td>\n",
       "      <td>False</td>\n",
       "      <td>False</td>\n",
       "      <td>0.500000</td>\n",
       "      <td>False</td>\n",
       "      <td>PM4-F1</td>\n",
       "    </tr>\n",
       "    <tr>\n",
       "      <th>349</th>\n",
       "      <td>PM4A</td>\n",
       "      <td>Sulfur</td>\n",
       "      <td>F2</td>\n",
       "      <td>Sulfate</td>\n",
       "      <td>0.233500</td>\n",
       "      <td>True</td>\n",
       "      <td>True</td>\n",
       "      <td>True</td>\n",
       "      <td>0.008887</td>\n",
       "      <td>True</td>\n",
       "      <td>PM4-F2</td>\n",
       "    </tr>\n",
       "    <tr>\n",
       "      <th>350</th>\n",
       "      <td>PM4A</td>\n",
       "      <td>Sulfur</td>\n",
       "      <td>F3</td>\n",
       "      <td>Thiosulfate</td>\n",
       "      <td>0.256500</td>\n",
       "      <td>True</td>\n",
       "      <td>True</td>\n",
       "      <td>True</td>\n",
       "      <td>0.000645</td>\n",
       "      <td>True</td>\n",
       "      <td>PM4-F3</td>\n",
       "    </tr>\n",
       "    <tr>\n",
       "      <th>351</th>\n",
       "      <td>PM4A</td>\n",
       "      <td>Sulfur</td>\n",
       "      <td>F4</td>\n",
       "      <td>Tetrathionate</td>\n",
       "      <td>0.194367</td>\n",
       "      <td>True</td>\n",
       "      <td>True</td>\n",
       "      <td>True</td>\n",
       "      <td>0.001838</td>\n",
       "      <td>True</td>\n",
       "      <td>PM4-F4</td>\n",
       "    </tr>\n",
       "    <tr>\n",
       "      <th>352</th>\n",
       "      <td>PM4A</td>\n",
       "      <td>Sulfur</td>\n",
       "      <td>F5</td>\n",
       "      <td>Thiophosphate</td>\n",
       "      <td>0.216967</td>\n",
       "      <td>True</td>\n",
       "      <td>True</td>\n",
       "      <td>True</td>\n",
       "      <td>0.000011</td>\n",
       "      <td>True</td>\n",
       "      <td>PM4-F5</td>\n",
       "    </tr>\n",
       "  </tbody>\n",
       "</table>\n",
       "</div>"
      ],
      "text/plain": [
       "    PlateType Experiment Well          Compound  Average ABS (590nm - 750nm)  \\\n",
       "348      PM4A     Sulfur   F1  Negative Control                     0.078800   \n",
       "349      PM4A     Sulfur   F2           Sulfate                     0.233500   \n",
       "350      PM4A     Sulfur   F3       Thiosulfate                     0.256500   \n",
       "351      PM4A     Sulfur   F4     Tetrathionate                     0.194367   \n",
       "352      PM4A     Sulfur   F5     Thiophosphate                     0.216967   \n",
       "\n",
       "     All replicates > negtive control  Average > 0.1  \\\n",
       "348                             False          False   \n",
       "349                              True           True   \n",
       "350                              True           True   \n",
       "351                              True           True   \n",
       "352                              True           True   \n",
       "\n",
       "     Average > 0.1 and all replicates greater than negative control  \\\n",
       "348                                              False                \n",
       "349                                               True                \n",
       "350                                               True                \n",
       "351                                               True                \n",
       "352                                               True                \n",
       "\n",
       "     pVal (T-test)  growth   plate  \n",
       "348       0.500000   False  PM4-F1  \n",
       "349       0.008887    True  PM4-F2  \n",
       "350       0.000645    True  PM4-F3  \n",
       "351       0.001838    True  PM4-F4  \n",
       "352       0.000011    True  PM4-F5  "
      ]
     },
     "execution_count": 65,
     "metadata": {},
     "output_type": "execute_result"
    }
   ],
   "source": [
    "sulfer_plate.head(5)"
   ]
  },
  {
   "cell_type": "code",
   "execution_count": null,
   "id": "0e850ed0",
   "metadata": {
    "pycharm": {
     "name": "#%%\n"
    }
   },
   "outputs": [],
   "source": [
    "nitrogren_plate[['plate', 'Compound', 'growth']]"
   ]
  },
  {
   "cell_type": "code",
   "execution_count": 64,
   "id": "a931b90c",
   "metadata": {
    "pycharm": {
     "name": "#%%\n"
    }
   },
   "outputs": [
    {
     "data": {
      "text/html": [
       "<div>\n",
       "<style scoped>\n",
       "    .dataframe tbody tr th:only-of-type {\n",
       "        vertical-align: middle;\n",
       "    }\n",
       "\n",
       "    .dataframe tbody tr th {\n",
       "        vertical-align: top;\n",
       "    }\n",
       "\n",
       "    .dataframe thead th {\n",
       "        text-align: right;\n",
       "    }\n",
       "</style>\n",
       "<table border=\"1\" class=\"dataframe\">\n",
       "  <thead>\n",
       "    <tr style=\"text-align: right;\">\n",
       "      <th></th>\n",
       "      <th>plate</th>\n",
       "      <th>ex_rxn</th>\n",
       "      <th>compound_name</th>\n",
       "      <th>exchange</th>\n",
       "    </tr>\n",
       "  </thead>\n",
       "  <tbody>\n",
       "    <tr>\n",
       "      <th>0</th>\n",
       "      <td>PM1-A10</td>\n",
       "      <td>EX_tre(e)</td>\n",
       "      <td>D-Trehalose</td>\n",
       "      <td>EX_tre_e</td>\n",
       "    </tr>\n",
       "    <tr>\n",
       "      <th>1</th>\n",
       "      <td>PM1-A11</td>\n",
       "      <td>EX_man(e)</td>\n",
       "      <td>D-Mannose</td>\n",
       "      <td>EX_man_e</td>\n",
       "    </tr>\n",
       "    <tr>\n",
       "      <th>2</th>\n",
       "      <td>PM1-A12</td>\n",
       "      <td>EX_galt(e)</td>\n",
       "      <td>Dulcitol</td>\n",
       "      <td>EX_galt_e</td>\n",
       "    </tr>\n",
       "    <tr>\n",
       "      <th>3</th>\n",
       "      <td>PM1-A2</td>\n",
       "      <td>EX_arab_L(e)</td>\n",
       "      <td>L-Arabinose</td>\n",
       "      <td>EX_arab__L_e</td>\n",
       "    </tr>\n",
       "    <tr>\n",
       "      <th>4</th>\n",
       "      <td>PM1-A3</td>\n",
       "      <td>EX_acgam(e)</td>\n",
       "      <td>N-Acetyl-DGlucosamine</td>\n",
       "      <td>EX_acgam_e</td>\n",
       "    </tr>\n",
       "    <tr>\n",
       "      <th>...</th>\n",
       "      <td>...</td>\n",
       "      <td>...</td>\n",
       "      <td>...</td>\n",
       "      <td>...</td>\n",
       "    </tr>\n",
       "    <tr>\n",
       "      <th>153</th>\n",
       "      <td>PM4-D6</td>\n",
       "      <td>EX_pser_L(e)</td>\n",
       "      <td>O-Phospho-L-Serine</td>\n",
       "      <td>EX_pser__L_e</td>\n",
       "    </tr>\n",
       "    <tr>\n",
       "      <th>154</th>\n",
       "      <td>PM4-D7</td>\n",
       "      <td>EX_thrp(e)</td>\n",
       "      <td>O-Phospho-L-Threonine</td>\n",
       "      <td>EX_thrp_e</td>\n",
       "    </tr>\n",
       "    <tr>\n",
       "      <th>155</th>\n",
       "      <td>PM4-D9</td>\n",
       "      <td>EX_3ump(e)</td>\n",
       "      <td>Uridine-3’-monophosphate</td>\n",
       "      <td>EX_3ump_e</td>\n",
       "    </tr>\n",
       "    <tr>\n",
       "      <th>156</th>\n",
       "      <td>PM4-E1</td>\n",
       "      <td>EX_tyrp(e)</td>\n",
       "      <td>O-Phospho-D-Tyrosine</td>\n",
       "      <td>EX_tyrp_e</td>\n",
       "    </tr>\n",
       "    <tr>\n",
       "      <th>157</th>\n",
       "      <td>PM4-E11</td>\n",
       "      <td>EX_minohp(e)</td>\n",
       "      <td>InositolHexaphosphate</td>\n",
       "      <td>EX_minohp_e</td>\n",
       "    </tr>\n",
       "  </tbody>\n",
       "</table>\n",
       "<p>158 rows × 4 columns</p>\n",
       "</div>"
      ],
      "text/plain": [
       "       plate        ex_rxn             compound_name      exchange\n",
       "0    PM1-A10     EX_tre(e)               D-Trehalose      EX_tre_e\n",
       "1    PM1-A11     EX_man(e)                 D-Mannose      EX_man_e\n",
       "2    PM1-A12    EX_galt(e)                  Dulcitol     EX_galt_e\n",
       "3     PM1-A2  EX_arab_L(e)               L-Arabinose  EX_arab__L_e\n",
       "4     PM1-A3   EX_acgam(e)     N-Acetyl-DGlucosamine    EX_acgam_e\n",
       "..       ...           ...                       ...           ...\n",
       "153   PM4-D6  EX_pser_L(e)        O-Phospho-L-Serine  EX_pser__L_e\n",
       "154   PM4-D7    EX_thrp(e)     O-Phospho-L-Threonine     EX_thrp_e\n",
       "155   PM4-D9    EX_3ump(e)  Uridine-3’-monophosphate     EX_3ump_e\n",
       "156   PM4-E1    EX_tyrp(e)      O-Phospho-D-Tyrosine     EX_tyrp_e\n",
       "157  PM4-E11  EX_minohp(e)     InositolHexaphosphate   EX_minohp_e\n",
       "\n",
       "[158 rows x 4 columns]"
      ]
     },
     "execution_count": 64,
     "metadata": {},
     "output_type": "execute_result"
    }
   ],
   "source": [
    "biolog_map"
   ]
  },
  {
   "cell_type": "code",
   "execution_count": null,
   "id": "1116422d",
   "metadata": {
    "pycharm": {
     "name": "#%%\n"
    }
   },
   "outputs": [],
   "source": [
    "def merge_with_plate(plate):\n",
    "    merged = pd.concat(\n",
    "        [plate.set_index('plate'), biolog_map.set_index('plate')],\n",
    "        axis=1,\n",
    "        ignore_index=False\n",
    "    )\n",
    "    merged.dropna(subset=['growth', 'ex_rxn'], inplace=True)\n",
    "\n",
    "    merged = merged.reset_index()\n",
    "    merged#[['exchange', 'growth']]\n",
    "    merged = subset_to_in_model(merged)[['exchange', 'growth']]\n",
    "    merged['uptake'] = 10\n",
    "    return merged\n",
    "\n",
    "def subset_to_in_model(plate, model_ex=exchanges):\n",
    "    return plate.loc[plate.exchange.isin(model_ex)]\n",
    "\n",
    "carbon = merge_with_plate(carbon_plate)\n",
    "nit = merge_with_plate(nitrogren_plate)\n",
    "sulf = merge_with_plate(sulfer_plate)\n",
    "phos = merge_with_plate(phosh_plate)"
   ]
  },
  {
   "cell_type": "code",
   "execution_count": 62,
   "id": "199aaf07",
   "metadata": {
    "pycharm": {
     "name": "#%%\n"
    }
   },
   "outputs": [
    {
     "data": {
      "text/html": [
       "<div>\n",
       "<style scoped>\n",
       "    .dataframe tbody tr th:only-of-type {\n",
       "        vertical-align: middle;\n",
       "    }\n",
       "\n",
       "    .dataframe tbody tr th {\n",
       "        vertical-align: top;\n",
       "    }\n",
       "\n",
       "    .dataframe thead th {\n",
       "        text-align: right;\n",
       "    }\n",
       "</style>\n",
       "<table border=\"1\" class=\"dataframe\">\n",
       "  <thead>\n",
       "    <tr style=\"text-align: right;\">\n",
       "      <th></th>\n",
       "      <th>exchange</th>\n",
       "      <th>growth</th>\n",
       "      <th>uptake</th>\n",
       "    </tr>\n",
       "  </thead>\n",
       "  <tbody>\n",
       "  </tbody>\n",
       "</table>\n",
       "</div>"
      ],
      "text/plain": [
       "Empty DataFrame\n",
       "Columns: [exchange, growth, uptake]\n",
       "Index: []"
      ]
     },
     "execution_count": 62,
     "metadata": {},
     "output_type": "execute_result"
    }
   ],
   "source": [
    "sulf"
   ]
  },
  {
   "cell_type": "code",
   "execution_count": 61,
   "id": "2d3ab22c",
   "metadata": {
    "pycharm": {
     "name": "#%%\n"
    }
   },
   "outputs": [
    {
     "data": {
      "text/html": [
       "<div>\n",
       "<style scoped>\n",
       "    .dataframe tbody tr th:only-of-type {\n",
       "        vertical-align: middle;\n",
       "    }\n",
       "\n",
       "    .dataframe tbody tr th {\n",
       "        vertical-align: top;\n",
       "    }\n",
       "\n",
       "    .dataframe thead th {\n",
       "        text-align: right;\n",
       "    }\n",
       "</style>\n",
       "<table border=\"1\" class=\"dataframe\">\n",
       "  <thead>\n",
       "    <tr style=\"text-align: right;\">\n",
       "      <th></th>\n",
       "      <th>exchange</th>\n",
       "      <th>growth</th>\n",
       "      <th>uptake</th>\n",
       "    </tr>\n",
       "  </thead>\n",
       "  <tbody>\n",
       "    <tr>\n",
       "      <th>1</th>\n",
       "      <td>EX_gmp_e</td>\n",
       "      <td>True</td>\n",
       "      <td>10</td>\n",
       "    </tr>\n",
       "    <tr>\n",
       "      <th>3</th>\n",
       "      <td>EX_g1p_e</td>\n",
       "      <td>True</td>\n",
       "      <td>10</td>\n",
       "    </tr>\n",
       "    <tr>\n",
       "      <th>4</th>\n",
       "      <td>EX_g6p_e</td>\n",
       "      <td>True</td>\n",
       "      <td>10</td>\n",
       "    </tr>\n",
       "    <tr>\n",
       "      <th>5</th>\n",
       "      <td>EX_gam6p_e</td>\n",
       "      <td>True</td>\n",
       "      <td>10</td>\n",
       "    </tr>\n",
       "    <tr>\n",
       "      <th>7</th>\n",
       "      <td>EX_cmp_e</td>\n",
       "      <td>True</td>\n",
       "      <td>10</td>\n",
       "    </tr>\n",
       "    <tr>\n",
       "      <th>9</th>\n",
       "      <td>EX_man6p_e</td>\n",
       "      <td>True</td>\n",
       "      <td>10</td>\n",
       "    </tr>\n",
       "    <tr>\n",
       "      <th>10</th>\n",
       "      <td>EX_pser__L_e</td>\n",
       "      <td>True</td>\n",
       "      <td>10</td>\n",
       "    </tr>\n",
       "    <tr>\n",
       "      <th>13</th>\n",
       "      <td>EX_ump_e</td>\n",
       "      <td>True</td>\n",
       "      <td>10</td>\n",
       "    </tr>\n",
       "    <tr>\n",
       "      <th>16</th>\n",
       "      <td>EX_minohp_e</td>\n",
       "      <td>True</td>\n",
       "      <td>10</td>\n",
       "    </tr>\n",
       "  </tbody>\n",
       "</table>\n",
       "</div>"
      ],
      "text/plain": [
       "        exchange growth  uptake\n",
       "1       EX_gmp_e   True      10\n",
       "3       EX_g1p_e   True      10\n",
       "4       EX_g6p_e   True      10\n",
       "5     EX_gam6p_e   True      10\n",
       "7       EX_cmp_e   True      10\n",
       "9     EX_man6p_e   True      10\n",
       "10  EX_pser__L_e   True      10\n",
       "13      EX_ump_e   True      10\n",
       "16   EX_minohp_e   True      10"
      ]
     },
     "execution_count": 61,
     "metadata": {},
     "output_type": "execute_result"
    }
   ],
   "source": [
    "phos"
   ]
  },
  {
   "cell_type": "code",
   "execution_count": null,
   "id": "87fc4df7",
   "metadata": {
    "pycharm": {
     "name": "#%%\n"
    }
   },
   "outputs": [],
   "source": [
    "carbon.to_csv('growth/carbon_biolog.csv', index=False)\n",
    "nit.to_csv('growth/nit_biolog.csv', index=False)\n",
    "phos.to_csv('growth/phos_biolog.csv', index=False)\n",
    "sulf.to_csv('growth/sulf_biolog.csv', index=False)"
   ]
  },
  {
   "cell_type": "code",
   "execution_count": null,
   "id": "13903b5d",
   "metadata": {
    "pycharm": {
     "name": "#%%\n"
    }
   },
   "outputs": [],
   "source": [
    "phos_sul"
   ]
  },
  {
   "cell_type": "markdown",
   "id": "9278e26c",
   "metadata": {
    "pycharm": {
     "name": "#%% md\n"
    }
   },
   "source": [
    "## Gene ess. parsing"
   ]
  },
  {
   "cell_type": "code",
   "execution_count": null,
   "id": "21694e99",
   "metadata": {
    "pycharm": {
     "name": "#%%\n"
    }
   },
   "outputs": [],
   "source": [
    "genes = set(i.id for i in rt.genes)"
   ]
  },
  {
   "cell_type": "code",
   "execution_count": null,
   "id": "6cdc5686",
   "metadata": {
    "pycharm": {
     "name": "#%%\n"
    }
   },
   "outputs": [],
   "source": [
    "ge_data = pd.read_excel(fname, sheet_name='RB-TDNA Seq')\n",
    "ge_data.RTO4_ID = ge_data.RTO4_ID.astype(str)\n",
    "ge_data['genename'] = 'RT_'+ge_data.RTO4_ID.astype(str)\n",
    "ge_data[['genename', 'M9_Glucose']]"
   ]
  },
  {
   "cell_type": "code",
   "execution_count": null,
   "id": "435222c5",
   "metadata": {
    "pycharm": {
     "name": "#%%\n"
    }
   },
   "outputs": [],
   "source": [
    "ge_data.columns"
   ]
  },
  {
   "cell_type": "code",
   "execution_count": null,
   "id": "086a3b4b",
   "metadata": {
    "pycharm": {
     "name": "#%%\n"
    }
   },
   "outputs": [],
   "source": [
    "genes_in_data = set(ge_data.genename.values)\n",
    "genes_in_data"
   ]
  },
  {
   "cell_type": "code",
   "execution_count": null,
   "id": "69523212",
   "metadata": {
    "pycharm": {
     "name": "#%%\n"
    }
   },
   "outputs": [],
   "source": [
    "print(f'genes in model {len(genes)}')\n",
    "print(f'genes in data {len(genes_in_data)}')\n",
    "print(f'model genes not in data {len(genes.difference(genes_in_data))}')\n",
    "print(f'data genes not in model {len(genes_in_data.difference(genes))}')"
   ]
  },
  {
   "cell_type": "code",
   "execution_count": null,
   "id": "7c499d79",
   "metadata": {
    "pycharm": {
     "name": "#%%\n"
    }
   },
   "outputs": [],
   "source": [
    "ge_in_our_data = ge_data.loc[ge_data.genename.isin(genes)].copy()\n",
    "ge_in_our_data"
   ]
  },
  {
   "cell_type": "code",
   "execution_count": null,
   "id": "bc452d4a",
   "metadata": {
    "pycharm": {
     "name": "#%%\n"
    }
   },
   "outputs": [],
   "source": [
    "ge_in_our_data.dropna(subset=['M9_Glucose'], inplace=True)\n",
    "ge_in_our_data"
   ]
  },
  {
   "cell_type": "code",
   "execution_count": null,
   "id": "e9df7499",
   "metadata": {
    "pycharm": {
     "name": "#%%\n"
    }
   },
   "outputs": [],
   "source": [
    "ge_in_our_data.loc[ge_in_our_data.M9_Glucose>.5, 'essential'] = True\n",
    "ge_in_our_data.loc[ge_in_our_data.M9_Glucose<.5, 'essential'] = False\n",
    "ge_in_our_data['comment'] = ''"
   ]
  },
  {
   "cell_type": "code",
   "execution_count": null,
   "id": "d57376b3",
   "metadata": {
    "pycharm": {
     "name": "#%%\n"
    }
   },
   "outputs": [],
   "source": [
    "ge_for_export = ge_in_our_data[['genename', 'essential','comment']].copy()\n",
    "ge_for_export"
   ]
  },
  {
   "cell_type": "code",
   "execution_count": null,
   "id": "319206d9",
   "metadata": {
    "pycharm": {
     "name": "#%%\n"
    }
   },
   "outputs": [],
   "source": [
    "ge_for_export.to_csv('essentiality/ge_m9_glucose.csv', index=False)"
   ]
  }
 ],
 "metadata": {
  "kernelspec": {
   "display_name": "Python 3 (ipykernel)",
   "language": "python",
   "name": "python3"
  },
  "language_info": {
   "codemirror_mode": {
    "name": "ipython",
    "version": 3
   },
   "file_extension": ".py",
   "mimetype": "text/x-python",
   "name": "python",
   "nbconvert_exporter": "python",
   "pygments_lexer": "ipython3",
   "version": "3.10.6"
  }
 },
 "nbformat": 4,
 "nbformat_minor": 5
}
