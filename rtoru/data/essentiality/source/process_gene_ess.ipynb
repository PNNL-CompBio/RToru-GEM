{
 "cells": [
  {
   "cell_type": "code",
   "execution_count": null,
   "id": "578e5f98",
   "metadata": {
    "pycharm": {
     "name": "#%%\n"
    }
   },
   "outputs": [],
   "source": [
    "import pandas as pd"
   ]
  },
  {
   "cell_type": "code",
   "execution_count": null,
   "id": "2cba4826",
   "metadata": {
    "pycharm": {
     "name": "#%%\n"
    }
   },
   "outputs": [],
   "source": [
    "fname = 'Table_2_Multi-Omics Driven Metabolic Network Reconstruction and Analysis of Lignocellulosic Carbon Utilization in Rhodosporidium toruloides.XLSX'"
   ]
  },
  {
   "cell_type": "code",
   "execution_count": null,
   "id": "70f8c8b2",
   "metadata": {
    "pycharm": {
     "name": "#%%\n"
    }
   },
   "outputs": [],
   "source": [
    "from rtoru import model as rt\n",
    "genes = set(i.id for i in rt.genes)"
   ]
  },
  {
   "cell_type": "code",
   "execution_count": null,
   "id": "210ce498",
   "metadata": {
    "pycharm": {
     "name": "#%%\n"
    }
   },
   "outputs": [],
   "source": [
    "ge_data = pd.read_excel(fname, sheet_name='RB-TDNA Seq')\n",
    "ge_data.RTO4_ID = ge_data.RTO4_ID.astype(str)\n",
    "ge_data['genename'] = 'RT_'+ge_data.RTO4_ID.astype(str)\n",
    "ge_data[['genename', 'M9_Glucose']]"
   ]
  },
  {
   "cell_type": "code",
   "execution_count": null,
   "id": "d852120c",
   "metadata": {
    "pycharm": {
     "name": "#%%\n"
    }
   },
   "outputs": [],
   "source": [
    "genes_in_data = set(ge_data.genename.values)\n",
    "genes_in_data"
   ]
  },
  {
   "cell_type": "code",
   "execution_count": null,
   "id": "c955b819",
   "metadata": {
    "pycharm": {
     "name": "#%%\n"
    }
   },
   "outputs": [],
   "source": [
    "print(f'genes in model {len(genes)}')\n",
    "print(f'genes in data {len(genes_in_data)}')\n",
    "print(f'model genes not in data {len(genes.difference(genes_in_data))}')\n",
    "print(f'data genes not in model {len(genes_in_data.difference(genes))}')"
   ]
  },
  {
   "cell_type": "code",
   "execution_count": null,
   "id": "273cbbd1",
   "metadata": {
    "pycharm": {
     "name": "#%%\n"
    }
   },
   "outputs": [],
   "source": [
    "ge_in_our_data = ge_data.loc[ge_data.genename.isin(genes)].copy()\n",
    "ge_in_our_data"
   ]
  },
  {
   "cell_type": "code",
   "execution_count": null,
   "id": "52c66a8a",
   "metadata": {
    "pycharm": {
     "name": "#%%\n"
    }
   },
   "outputs": [],
   "source": [
    "ge_in_our_data.dropna(subset=['M9_Glucose'], inplace=True)\n",
    "ge_in_our_data"
   ]
  },
  {
   "cell_type": "code",
   "execution_count": null,
   "id": "4cb0002c",
   "metadata": {
    "pycharm": {
     "name": "#%%\n"
    }
   },
   "outputs": [],
   "source": [
    "ge_in_our_data.loc[ge_in_our_data.M9_Glucose>.5, 'essential'] = True\n",
    "ge_in_our_data.loc[ge_in_our_data.M9_Glucose<.5, 'essential'] = False\n",
    "ge_in_our_data['comment'] = ''"
   ]
  },
  {
   "cell_type": "code",
   "execution_count": null,
   "id": "d44540fb",
   "metadata": {
    "pycharm": {
     "name": "#%%\n"
    }
   },
   "outputs": [],
   "source": [
    "ge_for_export = ge_in_our_data[['genename', 'essential','comment']].copy()\n",
    "ge_for_export"
   ]
  },
  {
   "cell_type": "code",
   "execution_count": null,
   "id": "3cd2ec3c",
   "metadata": {
    "pycharm": {
     "name": "#%%\n"
    }
   },
   "outputs": [],
   "source": [
    "ge_for_export.to_csv('../ge_m9_glucose.csv', index=False)"
   ]
  }
 ],
 "metadata": {
  "kernelspec": {
   "display_name": "Python 3 (ipykernel)",
   "language": "python",
   "name": "python3"
  },
  "language_info": {
   "codemirror_mode": {
    "name": "ipython",
    "version": 3
   },
   "file_extension": ".py",
   "mimetype": "text/x-python",
   "name": "python",
   "nbconvert_exporter": "python",
   "pygments_lexer": "ipython3",
   "version": "3.10.6"
  }
 },
 "nbformat": 4,
 "nbformat_minor": 5
}