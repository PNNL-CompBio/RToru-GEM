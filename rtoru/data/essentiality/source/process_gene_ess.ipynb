{
 "cells": [
  {
   "cell_type": "code",
   "execution_count": 81,
   "id": "578e5f98",
   "metadata": {
    "pycharm": {
     "name": "#%%\n"
    }
   },
   "outputs": [],
   "source": [
    "import pandas as pd"
   ]
  },
  {
   "cell_type": "code",
   "execution_count": 82,
   "id": "2cba4826",
   "metadata": {
    "pycharm": {
     "name": "#%%\n"
    }
   },
   "outputs": [],
   "source": [
    "fname = 'Table_2_Multi-Omics Driven Metabolic Network Reconstruction and Analysis of Lignocellulosic Carbon Utilization in Rhodosporidium toruloides.XLSX'"
   ]
  },
  {
   "cell_type": "code",
   "execution_count": 83,
   "id": "70f8c8b2",
   "metadata": {
    "pycharm": {
     "name": "#%%\n"
    }
   },
   "outputs": [],
   "source": [
    "from rtoru import model as rt\n",
    "genes = set(i.id for i in rt.genes)"
   ]
  },
  {
   "cell_type": "code",
   "execution_count": 84,
   "id": "210ce498",
   "metadata": {
    "pycharm": {
     "name": "#%%\n"
    }
   },
   "outputs": [
    {
     "data": {
      "text/plain": "      genename  M9_Glucose\n0     RT_10000         NaN\n1     RT_10001    0.470687\n2     RT_10002    0.283788\n3     RT_10003   -0.030815\n4     RT_10004   -0.071440\n...        ...         ...\n8339   RT_9995   -0.808815\n8340   RT_9996         NaN\n8341   RT_9997    0.128856\n8342   RT_9998    0.360599\n8343   RT_9999    0.038043\n\n[8344 rows x 2 columns]",
      "text/html": "<div>\n<style scoped>\n    .dataframe tbody tr th:only-of-type {\n        vertical-align: middle;\n    }\n\n    .dataframe tbody tr th {\n        vertical-align: top;\n    }\n\n    .dataframe thead th {\n        text-align: right;\n    }\n</style>\n<table border=\"1\" class=\"dataframe\">\n  <thead>\n    <tr style=\"text-align: right;\">\n      <th></th>\n      <th>genename</th>\n      <th>M9_Glucose</th>\n    </tr>\n  </thead>\n  <tbody>\n    <tr>\n      <th>0</th>\n      <td>RT_10000</td>\n      <td>NaN</td>\n    </tr>\n    <tr>\n      <th>1</th>\n      <td>RT_10001</td>\n      <td>0.470687</td>\n    </tr>\n    <tr>\n      <th>2</th>\n      <td>RT_10002</td>\n      <td>0.283788</td>\n    </tr>\n    <tr>\n      <th>3</th>\n      <td>RT_10003</td>\n      <td>-0.030815</td>\n    </tr>\n    <tr>\n      <th>4</th>\n      <td>RT_10004</td>\n      <td>-0.071440</td>\n    </tr>\n    <tr>\n      <th>...</th>\n      <td>...</td>\n      <td>...</td>\n    </tr>\n    <tr>\n      <th>8339</th>\n      <td>RT_9995</td>\n      <td>-0.808815</td>\n    </tr>\n    <tr>\n      <th>8340</th>\n      <td>RT_9996</td>\n      <td>NaN</td>\n    </tr>\n    <tr>\n      <th>8341</th>\n      <td>RT_9997</td>\n      <td>0.128856</td>\n    </tr>\n    <tr>\n      <th>8342</th>\n      <td>RT_9998</td>\n      <td>0.360599</td>\n    </tr>\n    <tr>\n      <th>8343</th>\n      <td>RT_9999</td>\n      <td>0.038043</td>\n    </tr>\n  </tbody>\n</table>\n<p>8344 rows × 2 columns</p>\n</div>"
     },
     "execution_count": 84,
     "metadata": {},
     "output_type": "execute_result"
    }
   ],
   "source": [
    "ge_data = pd.read_excel(fname, sheet_name='RB-TDNA Seq')\n",
    "ge_data.RTO4_ID = ge_data.RTO4_ID.astype(str)\n",
    "ge_data['genename'] = 'RT_'+ge_data.RTO4_ID.astype(str)\n",
    "ge_data[['genename', 'M9_Glucose']]"
   ]
  },
  {
   "cell_type": "code",
   "execution_count": 85,
   "id": "d852120c",
   "metadata": {
    "pycharm": {
     "name": "#%%\n"
    }
   },
   "outputs": [
    {
     "data": {
      "text/plain": "{'RT_11467',\n 'RT_9616',\n 'RT_16248',\n 'RT_8843',\n 'RT_12343',\n 'RT_9085',\n 'RT_14385',\n 'RT_16409',\n 'RT_8463',\n 'RT_14414',\n 'RT_11817',\n 'RT_11696',\n 'RT_10508',\n 'RT_9929',\n 'RT_11178',\n 'RT_11613',\n 'RT_11548',\n 'RT_10075',\n 'RT_10761',\n 'RT_15951',\n 'RT_13664',\n 'RT_9534',\n 'RT_12749',\n 'RT_16501',\n 'RT_10691',\n 'RT_12016',\n 'RT_14853',\n 'RT_11554',\n 'RT_11596',\n 'RT_9551',\n 'RT_9023',\n 'RT_9750',\n 'RT_13471',\n 'RT_16596',\n 'RT_9426',\n 'RT_15370',\n 'RT_9064',\n 'RT_13361',\n 'RT_10102',\n 'RT_10878',\n 'RT_15167',\n 'RT_14275',\n 'RT_10816',\n 'RT_11194',\n 'RT_14208',\n 'RT_14898',\n 'RT_15785',\n 'RT_16216',\n 'RT_12443',\n 'RT_9582',\n 'RT_9577',\n 'RT_9386',\n 'RT_12925',\n 'RT_15499',\n 'RT_11945',\n 'RT_10652',\n 'RT_13977',\n 'RT_12191',\n 'RT_15392',\n 'RT_16587',\n 'RT_9660',\n 'RT_13258',\n 'RT_9502',\n 'RT_14897',\n 'RT_12342',\n 'RT_9651',\n 'RT_8851',\n 'RT_15043',\n 'RT_10320',\n 'RT_13411',\n 'RT_14536',\n 'RT_11747',\n 'RT_14279',\n 'RT_16529',\n 'RT_12795',\n 'RT_8554',\n 'RT_16610',\n 'RT_12881',\n 'RT_14320',\n 'RT_15847',\n 'RT_10092',\n 'RT_8720',\n 'RT_10162',\n 'RT_8415',\n 'RT_12007',\n 'RT_9982',\n 'RT_15816',\n 'RT_14242',\n 'RT_16208',\n 'RT_15888',\n 'RT_15245',\n 'RT_16546',\n 'RT_13019',\n 'RT_15163',\n 'RT_9163',\n 'RT_11147',\n 'RT_12976',\n 'RT_11483',\n 'RT_10490',\n 'RT_15645',\n 'RT_11722',\n 'RT_10412',\n 'RT_10764',\n 'RT_12903',\n 'RT_13152',\n 'RT_9089',\n 'RT_14358',\n 'RT_11025',\n 'RT_14084',\n 'RT_11958',\n 'RT_9893',\n 'RT_9681',\n 'RT_15037',\n 'RT_15336',\n 'RT_16053',\n 'RT_16427',\n 'RT_9926',\n 'RT_15588',\n 'RT_13223',\n 'RT_8751',\n 'RT_9504',\n 'RT_16483',\n 'RT_10702',\n 'RT_9482',\n 'RT_15865',\n 'RT_8917',\n 'RT_15478',\n 'RT_9151',\n 'RT_11527',\n 'RT_9542',\n 'RT_9070',\n 'RT_12945',\n 'RT_14373',\n 'RT_16781',\n 'RT_15012',\n 'RT_11357',\n 'RT_14299',\n 'RT_16797',\n 'RT_9443',\n 'RT_9324',\n 'RT_14121',\n 'RT_11997',\n 'RT_14716',\n 'RT_15990',\n 'RT_11201',\n 'RT_8970',\n 'RT_15170',\n 'RT_16265',\n 'RT_12422',\n 'RT_15324',\n 'RT_9264',\n 'RT_13188',\n 'RT_14627',\n 'RT_11600',\n 'RT_16043',\n 'RT_15961',\n 'RT_10369',\n 'RT_13485',\n 'RT_11705',\n 'RT_12656',\n 'RT_13845',\n 'RT_13230',\n 'RT_11175',\n 'RT_11220',\n 'RT_16798',\n 'RT_11744',\n 'RT_12849',\n 'RT_12255',\n 'RT_13782',\n 'RT_11347',\n 'RT_10305',\n 'RT_16301',\n 'RT_11309',\n 'RT_9168',\n 'RT_14244',\n 'RT_11406',\n 'RT_12437',\n 'RT_12187',\n 'RT_14234',\n 'RT_15947',\n 'RT_14265',\n 'RT_8449',\n 'RT_16579',\n 'RT_14952',\n 'RT_11063',\n 'RT_9175',\n 'RT_9961',\n 'RT_13137',\n 'RT_12444',\n 'RT_11044',\n 'RT_14563',\n 'RT_12270',\n 'RT_15724',\n 'RT_15268',\n 'RT_9787',\n 'RT_13793',\n 'RT_13309',\n 'RT_11119',\n 'RT_11279',\n 'RT_15455',\n 'RT_10893',\n 'RT_16408',\n 'RT_13079',\n 'RT_12633',\n 'RT_13256',\n 'RT_11232',\n 'RT_12521',\n 'RT_15318',\n 'RT_11387',\n 'RT_16535',\n 'RT_12433',\n 'RT_9621',\n 'RT_13677',\n 'RT_12692',\n 'RT_12329',\n 'RT_13315',\n 'RT_9855',\n 'RT_10566',\n 'RT_12579',\n 'RT_15609',\n 'RT_9467',\n 'RT_9576',\n 'RT_12568',\n 'RT_11177',\n 'RT_8709',\n 'RT_11416',\n 'RT_16461',\n 'RT_9063',\n 'RT_15973',\n 'RT_11116',\n 'RT_9099',\n 'RT_11148',\n 'RT_8914',\n 'RT_8553',\n 'RT_9833',\n 'RT_13125',\n 'RT_15568',\n 'RT_12434',\n 'RT_15115',\n 'RT_11789',\n 'RT_8962',\n 'RT_14367',\n 'RT_11139',\n 'RT_16202',\n 'RT_11649',\n 'RT_15685',\n 'RT_9472',\n 'RT_12509',\n 'RT_13003',\n 'RT_13662',\n 'RT_10706',\n 'RT_14224',\n 'RT_12837',\n 'RT_13693',\n 'RT_9803',\n 'RT_11487',\n 'RT_14276',\n 'RT_13189',\n 'RT_10191',\n 'RT_9632',\n 'RT_9654',\n 'RT_10505',\n 'RT_13725',\n 'RT_12026',\n 'RT_11264',\n 'RT_8631',\n 'RT_12283',\n 'RT_11050',\n 'RT_9384',\n 'RT_10329',\n 'RT_15826',\n 'RT_10985',\n 'RT_14329',\n 'RT_14993',\n 'RT_15681',\n 'RT_15451',\n 'RT_16083',\n 'RT_15789',\n 'RT_11922',\n 'RT_11317',\n 'RT_15549',\n 'RT_16755',\n 'RT_14808',\n 'RT_15218',\n 'RT_9895',\n 'RT_14237',\n 'RT_11680',\n 'RT_9911',\n 'RT_13775',\n 'RT_16846',\n 'RT_9960',\n 'RT_15492',\n 'RT_15244',\n 'RT_16710',\n 'RT_13373',\n 'RT_15922',\n 'RT_11462',\n 'RT_11634',\n 'RT_11429',\n 'RT_13950',\n 'RT_16638',\n 'RT_15852',\n 'RT_15618',\n 'RT_10010',\n 'RT_9280',\n 'RT_8527',\n 'RT_14567',\n 'RT_16665',\n 'RT_16678',\n 'RT_14183',\n 'RT_13960',\n 'RT_11788',\n 'RT_16415',\n 'RT_15880',\n 'RT_16457',\n 'RT_11957',\n 'RT_9798',\n 'RT_13090',\n 'RT_11867',\n 'RT_11553',\n 'RT_16168',\n 'RT_12159',\n 'RT_10808',\n 'RT_15770',\n 'RT_12721',\n 'RT_10523',\n 'RT_12419',\n 'RT_15127',\n 'RT_9177',\n 'RT_11296',\n 'RT_13904',\n 'RT_12786',\n 'RT_8550',\n 'RT_9475',\n 'RT_13647',\n 'RT_8652',\n 'RT_11242',\n 'RT_13211',\n 'RT_12140',\n 'RT_16055',\n 'RT_15152',\n 'RT_12316',\n 'RT_9901',\n 'RT_8559',\n 'RT_13796',\n 'RT_12223',\n 'RT_16180',\n 'RT_10730',\n 'RT_16631',\n 'RT_11802',\n 'RT_13263',\n 'RT_15173',\n 'RT_13382',\n 'RT_13542',\n 'RT_9279',\n 'RT_14926',\n 'RT_12082',\n 'RT_15593',\n 'RT_13505',\n 'RT_14496',\n 'RT_9222',\n 'RT_12372',\n 'RT_13155',\n 'RT_13166',\n 'RT_15487',\n 'RT_15746',\n 'RT_11099',\n 'RT_10667',\n 'RT_8993',\n 'RT_15237',\n 'RT_16449',\n 'RT_12044',\n 'RT_14230',\n 'RT_8666',\n 'RT_8507',\n 'RT_11745',\n 'RT_16809',\n 'RT_16466',\n 'RT_13922',\n 'RT_12457',\n 'RT_9383',\n 'RT_16512',\n 'RT_12308',\n 'RT_13334',\n 'RT_16486',\n 'RT_13778',\n 'RT_9516',\n 'RT_10934',\n 'RT_16443',\n 'RT_14055',\n 'RT_8472',\n 'RT_13063',\n 'RT_14500',\n 'RT_13217',\n 'RT_14570',\n 'RT_12910',\n 'RT_11009',\n 'RT_15480',\n 'RT_10390',\n 'RT_16370',\n 'RT_12205',\n 'RT_10866',\n 'RT_11404',\n 'RT_8995',\n 'RT_13030',\n 'RT_9498',\n 'RT_15547',\n 'RT_10355',\n 'RT_10959',\n 'RT_13877',\n 'RT_15788',\n 'RT_8466',\n 'RT_9059',\n 'RT_9605',\n 'RT_9429',\n 'RT_16399',\n 'RT_16544',\n 'RT_9153',\n 'RT_11543',\n 'RT_12813',\n 'RT_13828',\n 'RT_9112',\n 'RT_10420',\n 'RT_10948',\n 'RT_14490',\n 'RT_8562',\n 'RT_14446',\n 'RT_8616',\n 'RT_9630',\n 'RT_13976',\n 'RT_10627',\n 'RT_10275',\n 'RT_10654',\n 'RT_10942',\n 'RT_10536',\n 'RT_10954',\n 'RT_15939',\n 'RT_13719',\n 'RT_10208',\n 'RT_15722',\n 'RT_10487',\n 'RT_12959',\n 'RT_11699',\n 'RT_11950',\n 'RT_13413',\n 'RT_14933',\n 'RT_11960',\n 'RT_13847',\n 'RT_15895',\n 'RT_10245',\n 'RT_10255',\n 'RT_14396',\n 'RT_13631',\n 'RT_13126',\n 'RT_11376',\n 'RT_16858',\n 'RT_13710',\n 'RT_11305',\n 'RT_11738',\n 'RT_15845',\n 'RT_10260',\n 'RT_10782',\n 'RT_15437',\n 'RT_10783',\n 'RT_15701',\n 'RT_8535',\n 'RT_11703',\n 'RT_10403',\n 'RT_16281',\n 'RT_16516',\n 'RT_9628',\n 'RT_15838',\n 'RT_9648',\n 'RT_10188',\n 'RT_14477',\n 'RT_10270',\n 'RT_14843',\n 'RT_12134',\n 'RT_16222',\n 'RT_9592',\n 'RT_13124',\n 'RT_11608',\n 'RT_10001',\n 'RT_10174',\n 'RT_10045',\n 'RT_15137',\n 'RT_15483',\n 'RT_10128',\n 'RT_11610',\n 'RT_16131',\n 'RT_10975',\n 'RT_15874',\n 'RT_11073',\n 'RT_11124',\n 'RT_11956',\n 'RT_14482',\n 'RT_14547',\n 'RT_9802',\n 'RT_10370',\n 'RT_12249',\n 'RT_11653',\n 'RT_12128',\n 'RT_16856',\n 'RT_11454',\n 'RT_14047',\n 'RT_16690',\n 'RT_16388',\n 'RT_16326',\n 'RT_15068',\n 'RT_15436',\n 'RT_11499',\n 'RT_15688',\n 'RT_16774',\n 'RT_15114',\n 'RT_16342',\n 'RT_16365',\n 'RT_15076',\n 'RT_11098',\n 'RT_16010',\n 'RT_8733',\n 'RT_11963',\n 'RT_15599',\n 'RT_11900',\n 'RT_13910',\n 'RT_13107',\n 'RT_11205',\n 'RT_14639',\n 'RT_13557',\n 'RT_10125',\n 'RT_14912',\n 'RT_11730',\n 'RT_10423',\n 'RT_13822',\n 'RT_14071',\n 'RT_11561',\n 'RT_16513',\n 'RT_11577',\n 'RT_16634',\n 'RT_8462',\n 'RT_14871',\n 'RT_13964',\n 'RT_10252',\n 'RT_10773',\n 'RT_9250',\n 'RT_11766',\n 'RT_9810',\n 'RT_11757',\n 'RT_15714',\n 'RT_12602',\n 'RT_11978',\n 'RT_9147',\n 'RT_14110',\n 'RT_13527',\n 'RT_14433',\n 'RT_12955',\n 'RT_14899',\n 'RT_8383',\n 'RT_8958',\n 'RT_12841',\n 'RT_13305',\n 'RT_8946',\n 'RT_9560',\n 'RT_10910',\n 'RT_10314',\n 'RT_10991',\n 'RT_12712',\n 'RT_13835',\n 'RT_11839',\n 'RT_16249',\n 'RT_8495',\n 'RT_15707',\n 'RT_12234',\n 'RT_13451',\n 'RT_9536',\n 'RT_16183',\n 'RT_10461',\n 'RT_16531',\n 'RT_9557',\n 'RT_15228',\n 'RT_16172',\n 'RT_9357',\n 'RT_12144',\n 'RT_9951',\n 'RT_14787',\n 'RT_10283',\n 'RT_11862',\n 'RT_13827',\n 'RT_14005',\n 'RT_13011',\n 'RT_8560',\n 'RT_9302',\n 'RT_16543',\n 'RT_16524',\n 'RT_8981',\n 'RT_16065',\n 'RT_15349',\n 'RT_15633',\n 'RT_16061',\n 'RT_16297',\n 'RT_10364',\n 'RT_16465',\n 'RT_9071',\n 'RT_11355',\n 'RT_15486',\n 'RT_12632',\n 'RT_10019',\n 'RT_14797',\n 'RT_14476',\n 'RT_16411',\n 'RT_10728',\n 'RT_16539',\n 'RT_10963',\n 'RT_14180',\n 'RT_11834',\n 'RT_13819',\n 'RT_11540',\n 'RT_11257',\n 'RT_14188',\n 'RT_15242',\n 'RT_12378',\n 'RT_12053',\n 'RT_16103',\n 'RT_14429',\n 'RT_16595',\n 'RT_11588',\n 'RT_11991',\n 'RT_15157',\n 'RT_12462',\n 'RT_13117',\n 'RT_11975',\n 'RT_16522',\n 'RT_9366',\n 'RT_9956',\n 'RT_15783',\n 'RT_12655',\n 'RT_13237',\n 'RT_10636',\n 'RT_12911',\n 'RT_11067',\n 'RT_14270',\n 'RT_14721',\n 'RT_9836',\n 'RT_13105',\n 'RT_14682',\n 'RT_10482',\n 'RT_16091',\n 'RT_13291',\n 'RT_15402',\n 'RT_16855',\n 'RT_13408',\n 'RT_11536',\n 'RT_9682',\n 'RT_10433',\n 'RT_14269',\n 'RT_14361',\n 'RT_9017',\n 'RT_12293',\n 'RT_9856',\n 'RT_14550',\n 'RT_9274',\n 'RT_14173',\n 'RT_10856',\n 'RT_11735',\n 'RT_11595',\n 'RT_16854',\n 'RT_9379',\n 'RT_13329',\n 'RT_15064',\n 'RT_16581',\n 'RT_11907',\n 'RT_9643',\n 'RT_14538',\n 'RT_10298',\n 'RT_10719',\n 'RT_13969',\n 'RT_10837',\n 'RT_13005',\n 'RT_12737',\n 'RT_15907',\n 'RT_13116',\n 'RT_13142',\n 'RT_9797',\n 'RT_11732',\n 'RT_16664',\n 'RT_14438',\n 'RT_16482',\n 'RT_14378',\n 'RT_9515',\n 'RT_14657',\n 'RT_9412',\n 'RT_11799',\n 'RT_16196',\n 'RT_8890',\n 'RT_12049',\n 'RT_11187',\n 'RT_10192',\n 'RT_12098',\n 'RT_15862',\n 'RT_15250',\n 'RT_12680',\n 'RT_15546',\n 'RT_14195',\n 'RT_12046',\n 'RT_15022',\n 'RT_13876',\n 'RT_9157',\n 'RT_10921',\n 'RT_10178',\n 'RT_15020',\n 'RT_13092',\n 'RT_11729',\n 'RT_15317',\n 'RT_10737',\n 'RT_16101',\n 'RT_15972',\n 'RT_16771',\n 'RT_12499',\n 'RT_10056',\n 'RT_10186',\n 'RT_11924',\n 'RT_10210',\n 'RT_8377',\n 'RT_10294',\n 'RT_10608',\n 'RT_14474',\n 'RT_14324',\n 'RT_10888',\n 'RT_16290',\n 'RT_11276',\n 'RT_11917',\n 'RT_10685',\n 'RT_12662',\n 'RT_11624',\n 'RT_9416',\n 'RT_11604',\n 'RT_12538',\n 'RT_10268',\n 'RT_12943',\n 'RT_10138',\n 'RT_9724',\n 'RT_10052',\n 'RT_13565',\n 'RT_14574',\n 'RT_14831',\n 'RT_9333',\n 'RT_11218',\n 'RT_13261',\n 'RT_16203',\n 'RT_10683',\n 'RT_10459',\n 'RT_9794',\n 'RT_16384',\n 'RT_13695',\n 'RT_14747',\n 'RT_10796',\n 'RT_14820',\n 'RT_15187',\n 'RT_12719',\n 'RT_13685',\n 'RT_13497',\n 'RT_16679',\n 'RT_9680',\n 'RT_15883',\n 'RT_16527',\n 'RT_9525',\n 'RT_11578',\n 'RT_15566',\n 'RT_8539',\n 'RT_8612',\n 'RT_11650',\n 'RT_13785',\n 'RT_14386',\n 'RT_11341',\n 'RT_13266',\n 'RT_12151',\n 'RT_11012',\n 'RT_9154',\n 'RT_15945',\n 'RT_9436',\n 'RT_15687',\n 'RT_15021',\n 'RT_8578',\n 'RT_14364',\n 'RT_12265',\n 'RT_15735',\n 'RT_15601',\n 'RT_8603',\n 'RT_12810',\n 'RT_12168',\n 'RT_8943',\n 'RT_10286',\n 'RT_11777',\n 'RT_13594',\n 'RT_14434',\n 'RT_14306',\n 'RT_15702',\n 'RT_13428',\n 'RT_15773',\n 'RT_12738',\n 'RT_11203',\n 'RT_8896',\n 'RT_12008',\n 'RT_14044',\n 'RT_10214',\n 'RT_10740',\n 'RT_14014',\n 'RT_15148',\n 'RT_11633',\n 'RT_14003',\n 'RT_8901',\n 'RT_15729',\n 'RT_12067',\n 'RT_14603',\n 'RT_12045',\n 'RT_12615',\n 'RT_8391',\n 'RT_9946',\n 'RT_15658',\n 'RT_12907',\n 'RT_10639',\n 'RT_15294',\n 'RT_11845',\n 'RT_9469',\n 'RT_10204',\n 'RT_9601',\n 'RT_13037',\n 'RT_10999',\n 'RT_8400',\n 'RT_12337',\n 'RT_8963',\n 'RT_14261',\n 'RT_10875',\n 'RT_16828',\n 'RT_15412',\n 'RT_16841',\n 'RT_9892',\n 'RT_13404',\n 'RT_14886',\n 'RT_14534',\n 'RT_15648',\n 'RT_12078',\n 'RT_16360',\n 'RT_15754',\n 'RT_12063',\n 'RT_14452',\n 'RT_9914',\n 'RT_16550',\n 'RT_16383',\n 'RT_9953',\n 'RT_15502',\n 'RT_12597',\n 'RT_8634',\n 'RT_13264',\n 'RT_16008',\n 'RT_13738',\n 'RT_14498',\n 'RT_15132',\n 'RT_15264',\n 'RT_10373',\n 'RT_14105',\n 'RT_12215',\n 'RT_11860',\n 'RT_11000',\n 'RT_16839',\n 'RT_11977',\n 'RT_15246',\n 'RT_9105',\n 'RT_9614',\n 'RT_14506',\n 'RT_15970',\n 'RT_11725',\n 'RT_12047',\n 'RT_11859',\n 'RT_10466',\n 'RT_10066',\n 'RT_15330',\n 'RT_8932',\n 'RT_10603',\n 'RT_8973',\n 'RT_12347',\n 'RT_12368',\n 'RT_13180',\n 'RT_14789',\n 'RT_8498',\n 'RT_11565',\n 'RT_13724',\n 'RT_11902',\n 'RT_9586',\n 'RT_11240',\n 'RT_11678',\n 'RT_15521',\n 'RT_15010',\n 'RT_15692',\n 'RT_14176',\n 'RT_10285',\n 'RT_14922',\n 'RT_13894',\n 'RT_12821',\n 'RT_13578',\n 'RT_15529',\n 'RT_13046',\n 'RT_11489',\n 'RT_14836',\n 'RT_15531',\n 'RT_15229',\n 'RT_13255',\n 'RT_15484',\n 'RT_13198',\n 'RT_14743',\n 'RT_14132',\n 'RT_13275',\n 'RT_12551',\n 'RT_11752',\n 'RT_9094',\n 'RT_15917',\n 'RT_9434',\n 'RT_11291',\n 'RT_9941',\n 'RT_10823',\n 'RT_9962',\n 'RT_16245',\n 'RT_16448',\n 'RT_12635',\n 'RT_11366',\n 'RT_10689',\n 'RT_15992',\n 'RT_10366',\n 'RT_13156',\n 'RT_12466',\n 'RT_13185',\n 'RT_13978',\n 'RT_15718',\n 'RT_9282',\n 'RT_13141',\n 'RT_12115',\n 'RT_16417',\n 'RT_10772',\n 'RT_9337',\n 'RT_13024',\n 'RT_16565',\n 'RT_10957',\n 'RT_16616',\n 'RT_10573',\n 'RT_16736',\n 'RT_13056',\n 'RT_13838',\n 'RT_16310',\n 'RT_16689',\n 'RT_11448',\n 'RT_13770',\n 'RT_16734',\n 'RT_9317',\n 'RT_11623',\n 'RT_14819',\n 'RT_15292',\n 'RT_15439',\n 'RT_14028',\n 'RT_12429',\n 'RT_9036',\n 'RT_10968',\n 'RT_16313',\n 'RT_11652',\n 'RT_14672',\n 'RT_10597',\n 'RT_12085',\n 'RT_10610',\n 'RT_12258',\n 'RT_11243',\n 'RT_9034',\n 'RT_10491',\n 'RT_14401',\n 'RT_16378',\n 'RT_9864',\n 'RT_10832',\n 'RT_11510',\n 'RT_16680',\n 'RT_12960',\n 'RT_9271',\n 'RT_12620',\n 'RT_11713',\n 'RT_9701',\n 'RT_13502',\n 'RT_12336',\n 'RT_14061',\n 'RT_14835',\n 'RT_16530',\n 'RT_8900',\n 'RT_9771',\n 'RT_9706',\n 'RT_10233',\n 'RT_15556',\n 'RT_16338',\n 'RT_15683',\n 'RT_13580',\n 'RT_13234',\n 'RT_14633',\n 'RT_16702',\n 'RT_13655',\n 'RT_11630',\n 'RT_14169',\n ...}"
     },
     "execution_count": 85,
     "metadata": {},
     "output_type": "execute_result"
    }
   ],
   "source": [
    "genes_in_data = set(ge_data.genename.values)\n",
    "genes_in_data"
   ]
  },
  {
   "cell_type": "code",
   "execution_count": 86,
   "id": "c955b819",
   "metadata": {
    "pycharm": {
     "name": "#%%\n"
    }
   },
   "outputs": [
    {
     "name": "stdout",
     "output_type": "stream",
     "text": [
      "genes in model 1142\n",
      "genes in data 8344\n",
      "model genes not in data 31\n",
      "data genes not in model 7233\n"
     ]
    }
   ],
   "source": [
    "print(f'genes in model {len(genes)}')\n",
    "print(f'genes in data {len(genes_in_data)}')\n",
    "print(f'model genes not in data {len(genes.difference(genes_in_data))}')\n",
    "print(f'data genes not in model {len(genes_in_data.difference(genes))}')"
   ]
  },
  {
   "cell_type": "code",
   "execution_count": 87,
   "id": "273cbbd1",
   "metadata": {
    "pycharm": {
     "name": "#%%\n"
    }
   },
   "outputs": [
    {
     "data": {
      "text/plain": "     RTO4_ID  M9_Glucose  YNB Glucose  YNB Glucose plus Arginine  \\\n0      10000         NaN          NaN                        NaN   \n7      10007         NaN          NaN                        NaN   \n10     10010   -0.130360    -0.558565                  -0.332740   \n12     10012    0.120928    -0.056685                  -0.143451   \n16     10017   -0.117902     0.001326                   0.216430   \n...      ...         ...          ...                        ...   \n8306    9962   -0.102349     0.101140                   0.044222   \n8323    9979         NaN          NaN                        NaN   \n8325    9981   -0.182969    -1.210120                  -1.083946   \n8334    9990   -0.272603    -0.184758                   0.337242   \n8339    9995   -0.808815    -1.067964                  -1.066192   \n\n      YNB Glucose plus Methionine  YNB Glucose plus Dropout Complete  \\\n0                             NaN                                NaN   \n7                             NaN                                NaN   \n10                      -0.260252                          -0.383313   \n12                      -0.205516                          -0.240177   \n16                       0.169223                          -0.072431   \n...                           ...                                ...   \n8306                     0.206130                           0.142080   \n8323                          NaN                                NaN   \n8325                    -0.985173                          -0.844407   \n8334                     0.525320                          -0.020653   \n8339                    -0.112018                                NaN   \n\n      Fitness During Lipid Mobilization  YNB Oleic Acid  YNB Cellobiose  \\\n0                                   NaN             NaN             NaN   \n7                                   NaN             NaN             NaN   \n10                            -0.030872       -0.611898       -0.097438   \n12                            -0.282986       -0.039371        0.021825   \n16                             0.382748        0.455964        0.161420   \n...                                 ...             ...             ...   \n8306                           0.189212       -0.012657       -0.097314   \n8323                                NaN             NaN             NaN   \n8325                          -0.952909       -0.652234        0.200798   \n8334                           0.544806       -0.110552       -0.359997   \n8339                           0.511979        1.222200             NaN   \n\n      YNB_CSM_KPO4 Glucose  ...  YNB_PO4_L-arabitol  YNB_PO4_xylitol  \\\n0                      NaN  ...                 NaN              NaN   \n7                      NaN  ...                 NaN              NaN   \n10               -0.035705  ...           -0.732452        -0.836823   \n12               -0.185444  ...           -0.185901        -0.347117   \n16                0.012681  ...            0.073421         0.076093   \n...                    ...  ...                 ...              ...   \n8306              0.004740  ...            0.039896         0.240334   \n8323                   NaN  ...                 NaN              NaN   \n8325              0.016013  ...           -0.450650        -0.102575   \n8334              0.187456  ...           -4.105096        -4.463727   \n8339              0.637911  ...           -0.198884         0.387441   \n\n      YNB_PO4_D-ribulose  YNB_PO4_D-xylulose  YNB_PO4_CSM_Galactose  \\\n0                    NaN                 NaN                    NaN   \n7                    NaN                 NaN                    NaN   \n10             -0.490688           -0.534801              -0.035402   \n12             -0.043478            0.049640              -0.330369   \n16             -0.266397            0.038548               0.024525   \n...                  ...                 ...                    ...   \n8306            0.321752            0.089398              -0.254636   \n8323                 NaN                 NaN                    NaN   \n8325           -0.311876           -0.298921              -0.471137   \n8334           -0.667114           -4.072184              -0.077310   \n8339            0.593386            0.796064              -0.916582   \n\n      YNB_PO4_CSM_Lactate  YNB_PO4_CSM_Valine  YNB_PO4_CSM_Leucine  \\\n0                     NaN                 NaN                  NaN   \n7                     NaN                 NaN                  NaN   \n10              -0.427705           -0.143231            -0.240726   \n12              -0.571357           -0.390520            -4.921371   \n16               0.112220           -0.159979            -0.229817   \n...                   ...                 ...                  ...   \n8306            -0.723065           -0.622660            -0.047665   \n8323                  NaN                 NaN                  NaN   \n8325            -0.915556           -0.221405            -0.589374   \n8334             0.459774            0.053585             0.211604   \n8339             0.477380            0.268669            -0.754837   \n\n      YNB_PO4_CSM_Phenylalanine  genename  \n0                           NaN  RT_10000  \n7                           NaN  RT_10007  \n10                    -0.376989  RT_10010  \n12                    -0.586259  RT_10012  \n16                    -0.086100  RT_10017  \n...                         ...       ...  \n8306                   0.811095   RT_9962  \n8323                        NaN   RT_9979  \n8325                  -0.123179   RT_9981  \n8334                  -0.229242   RT_9990  \n8339                  -1.102114   RT_9995  \n\n[1111 rows x 29 columns]",
      "text/html": "<div>\n<style scoped>\n    .dataframe tbody tr th:only-of-type {\n        vertical-align: middle;\n    }\n\n    .dataframe tbody tr th {\n        vertical-align: top;\n    }\n\n    .dataframe thead th {\n        text-align: right;\n    }\n</style>\n<table border=\"1\" class=\"dataframe\">\n  <thead>\n    <tr style=\"text-align: right;\">\n      <th></th>\n      <th>RTO4_ID</th>\n      <th>M9_Glucose</th>\n      <th>YNB Glucose</th>\n      <th>YNB Glucose plus Arginine</th>\n      <th>YNB Glucose plus Methionine</th>\n      <th>YNB Glucose plus Dropout Complete</th>\n      <th>Fitness During Lipid Mobilization</th>\n      <th>YNB Oleic Acid</th>\n      <th>YNB Cellobiose</th>\n      <th>YNB_CSM_KPO4 Glucose</th>\n      <th>...</th>\n      <th>YNB_PO4_L-arabitol</th>\n      <th>YNB_PO4_xylitol</th>\n      <th>YNB_PO4_D-ribulose</th>\n      <th>YNB_PO4_D-xylulose</th>\n      <th>YNB_PO4_CSM_Galactose</th>\n      <th>YNB_PO4_CSM_Lactate</th>\n      <th>YNB_PO4_CSM_Valine</th>\n      <th>YNB_PO4_CSM_Leucine</th>\n      <th>YNB_PO4_CSM_Phenylalanine</th>\n      <th>genename</th>\n    </tr>\n  </thead>\n  <tbody>\n    <tr>\n      <th>0</th>\n      <td>10000</td>\n      <td>NaN</td>\n      <td>NaN</td>\n      <td>NaN</td>\n      <td>NaN</td>\n      <td>NaN</td>\n      <td>NaN</td>\n      <td>NaN</td>\n      <td>NaN</td>\n      <td>NaN</td>\n      <td>...</td>\n      <td>NaN</td>\n      <td>NaN</td>\n      <td>NaN</td>\n      <td>NaN</td>\n      <td>NaN</td>\n      <td>NaN</td>\n      <td>NaN</td>\n      <td>NaN</td>\n      <td>NaN</td>\n      <td>RT_10000</td>\n    </tr>\n    <tr>\n      <th>7</th>\n      <td>10007</td>\n      <td>NaN</td>\n      <td>NaN</td>\n      <td>NaN</td>\n      <td>NaN</td>\n      <td>NaN</td>\n      <td>NaN</td>\n      <td>NaN</td>\n      <td>NaN</td>\n      <td>NaN</td>\n      <td>...</td>\n      <td>NaN</td>\n      <td>NaN</td>\n      <td>NaN</td>\n      <td>NaN</td>\n      <td>NaN</td>\n      <td>NaN</td>\n      <td>NaN</td>\n      <td>NaN</td>\n      <td>NaN</td>\n      <td>RT_10007</td>\n    </tr>\n    <tr>\n      <th>10</th>\n      <td>10010</td>\n      <td>-0.130360</td>\n      <td>-0.558565</td>\n      <td>-0.332740</td>\n      <td>-0.260252</td>\n      <td>-0.383313</td>\n      <td>-0.030872</td>\n      <td>-0.611898</td>\n      <td>-0.097438</td>\n      <td>-0.035705</td>\n      <td>...</td>\n      <td>-0.732452</td>\n      <td>-0.836823</td>\n      <td>-0.490688</td>\n      <td>-0.534801</td>\n      <td>-0.035402</td>\n      <td>-0.427705</td>\n      <td>-0.143231</td>\n      <td>-0.240726</td>\n      <td>-0.376989</td>\n      <td>RT_10010</td>\n    </tr>\n    <tr>\n      <th>12</th>\n      <td>10012</td>\n      <td>0.120928</td>\n      <td>-0.056685</td>\n      <td>-0.143451</td>\n      <td>-0.205516</td>\n      <td>-0.240177</td>\n      <td>-0.282986</td>\n      <td>-0.039371</td>\n      <td>0.021825</td>\n      <td>-0.185444</td>\n      <td>...</td>\n      <td>-0.185901</td>\n      <td>-0.347117</td>\n      <td>-0.043478</td>\n      <td>0.049640</td>\n      <td>-0.330369</td>\n      <td>-0.571357</td>\n      <td>-0.390520</td>\n      <td>-4.921371</td>\n      <td>-0.586259</td>\n      <td>RT_10012</td>\n    </tr>\n    <tr>\n      <th>16</th>\n      <td>10017</td>\n      <td>-0.117902</td>\n      <td>0.001326</td>\n      <td>0.216430</td>\n      <td>0.169223</td>\n      <td>-0.072431</td>\n      <td>0.382748</td>\n      <td>0.455964</td>\n      <td>0.161420</td>\n      <td>0.012681</td>\n      <td>...</td>\n      <td>0.073421</td>\n      <td>0.076093</td>\n      <td>-0.266397</td>\n      <td>0.038548</td>\n      <td>0.024525</td>\n      <td>0.112220</td>\n      <td>-0.159979</td>\n      <td>-0.229817</td>\n      <td>-0.086100</td>\n      <td>RT_10017</td>\n    </tr>\n    <tr>\n      <th>...</th>\n      <td>...</td>\n      <td>...</td>\n      <td>...</td>\n      <td>...</td>\n      <td>...</td>\n      <td>...</td>\n      <td>...</td>\n      <td>...</td>\n      <td>...</td>\n      <td>...</td>\n      <td>...</td>\n      <td>...</td>\n      <td>...</td>\n      <td>...</td>\n      <td>...</td>\n      <td>...</td>\n      <td>...</td>\n      <td>...</td>\n      <td>...</td>\n      <td>...</td>\n      <td>...</td>\n    </tr>\n    <tr>\n      <th>8306</th>\n      <td>9962</td>\n      <td>-0.102349</td>\n      <td>0.101140</td>\n      <td>0.044222</td>\n      <td>0.206130</td>\n      <td>0.142080</td>\n      <td>0.189212</td>\n      <td>-0.012657</td>\n      <td>-0.097314</td>\n      <td>0.004740</td>\n      <td>...</td>\n      <td>0.039896</td>\n      <td>0.240334</td>\n      <td>0.321752</td>\n      <td>0.089398</td>\n      <td>-0.254636</td>\n      <td>-0.723065</td>\n      <td>-0.622660</td>\n      <td>-0.047665</td>\n      <td>0.811095</td>\n      <td>RT_9962</td>\n    </tr>\n    <tr>\n      <th>8323</th>\n      <td>9979</td>\n      <td>NaN</td>\n      <td>NaN</td>\n      <td>NaN</td>\n      <td>NaN</td>\n      <td>NaN</td>\n      <td>NaN</td>\n      <td>NaN</td>\n      <td>NaN</td>\n      <td>NaN</td>\n      <td>...</td>\n      <td>NaN</td>\n      <td>NaN</td>\n      <td>NaN</td>\n      <td>NaN</td>\n      <td>NaN</td>\n      <td>NaN</td>\n      <td>NaN</td>\n      <td>NaN</td>\n      <td>NaN</td>\n      <td>RT_9979</td>\n    </tr>\n    <tr>\n      <th>8325</th>\n      <td>9981</td>\n      <td>-0.182969</td>\n      <td>-1.210120</td>\n      <td>-1.083946</td>\n      <td>-0.985173</td>\n      <td>-0.844407</td>\n      <td>-0.952909</td>\n      <td>-0.652234</td>\n      <td>0.200798</td>\n      <td>0.016013</td>\n      <td>...</td>\n      <td>-0.450650</td>\n      <td>-0.102575</td>\n      <td>-0.311876</td>\n      <td>-0.298921</td>\n      <td>-0.471137</td>\n      <td>-0.915556</td>\n      <td>-0.221405</td>\n      <td>-0.589374</td>\n      <td>-0.123179</td>\n      <td>RT_9981</td>\n    </tr>\n    <tr>\n      <th>8334</th>\n      <td>9990</td>\n      <td>-0.272603</td>\n      <td>-0.184758</td>\n      <td>0.337242</td>\n      <td>0.525320</td>\n      <td>-0.020653</td>\n      <td>0.544806</td>\n      <td>-0.110552</td>\n      <td>-0.359997</td>\n      <td>0.187456</td>\n      <td>...</td>\n      <td>-4.105096</td>\n      <td>-4.463727</td>\n      <td>-0.667114</td>\n      <td>-4.072184</td>\n      <td>-0.077310</td>\n      <td>0.459774</td>\n      <td>0.053585</td>\n      <td>0.211604</td>\n      <td>-0.229242</td>\n      <td>RT_9990</td>\n    </tr>\n    <tr>\n      <th>8339</th>\n      <td>9995</td>\n      <td>-0.808815</td>\n      <td>-1.067964</td>\n      <td>-1.066192</td>\n      <td>-0.112018</td>\n      <td>NaN</td>\n      <td>0.511979</td>\n      <td>1.222200</td>\n      <td>NaN</td>\n      <td>0.637911</td>\n      <td>...</td>\n      <td>-0.198884</td>\n      <td>0.387441</td>\n      <td>0.593386</td>\n      <td>0.796064</td>\n      <td>-0.916582</td>\n      <td>0.477380</td>\n      <td>0.268669</td>\n      <td>-0.754837</td>\n      <td>-1.102114</td>\n      <td>RT_9995</td>\n    </tr>\n  </tbody>\n</table>\n<p>1111 rows × 29 columns</p>\n</div>"
     },
     "execution_count": 87,
     "metadata": {},
     "output_type": "execute_result"
    }
   ],
   "source": [
    "ge_in_our_data = ge_data.loc[ge_data.genename.isin(genes)].copy()\n",
    "ge_in_our_data"
   ]
  },
  {
   "cell_type": "code",
   "execution_count": 88,
   "id": "52c66a8a",
   "metadata": {
    "pycharm": {
     "name": "#%%\n"
    }
   },
   "outputs": [
    {
     "data": {
      "text/plain": "     RTO4_ID  M9_Glucose  YNB Glucose  YNB Glucose plus Arginine  \\\n10     10010   -0.130360    -0.558565                  -0.332740   \n12     10012    0.120928    -0.056685                  -0.143451   \n16     10017   -0.117902     0.001326                   0.216430   \n28     10029   -0.020871     0.052095                   0.224890   \n37     10038   -0.365987    -0.198609                  -0.156681   \n...      ...         ...          ...                        ...   \n8303    9959   -0.496589    -0.049252                  -0.280461   \n8306    9962   -0.102349     0.101140                   0.044222   \n8325    9981   -0.182969    -1.210120                  -1.083946   \n8334    9990   -0.272603    -0.184758                   0.337242   \n8339    9995   -0.808815    -1.067964                  -1.066192   \n\n      YNB Glucose plus Methionine  YNB Glucose plus Dropout Complete  \\\n10                      -0.260252                          -0.383313   \n12                      -0.205516                          -0.240177   \n16                       0.169223                          -0.072431   \n28                       0.241546                          -0.067308   \n37                       0.504791                          -0.298004   \n...                           ...                                ...   \n8303                    -0.192801                          -0.186293   \n8306                     0.206130                           0.142080   \n8325                    -0.985173                          -0.844407   \n8334                     0.525320                          -0.020653   \n8339                    -0.112018                                NaN   \n\n      Fitness During Lipid Mobilization  YNB Oleic Acid  YNB Cellobiose  \\\n10                            -0.030872       -0.611898       -0.097438   \n12                            -0.282986       -0.039371        0.021825   \n16                             0.382748        0.455964        0.161420   \n28                             0.622053       -0.412340        0.096512   \n37                            -0.330527       -0.754754       -0.425817   \n...                                 ...             ...             ...   \n8303                           0.094831        0.158215       -0.052001   \n8306                           0.189212       -0.012657       -0.097314   \n8325                          -0.952909       -0.652234        0.200798   \n8334                           0.544806       -0.110552       -0.359997   \n8339                           0.511979        1.222200             NaN   \n\n      YNB_CSM_KPO4 Glucose  ...  YNB_PO4_L-arabitol  YNB_PO4_xylitol  \\\n10               -0.035705  ...           -0.732452        -0.836823   \n12               -0.185444  ...           -0.185901        -0.347117   \n16                0.012681  ...            0.073421         0.076093   \n28               -0.167850  ...           -0.759319        -0.288770   \n37               -0.064758  ...            0.157148         0.081089   \n...                    ...  ...                 ...              ...   \n8303             -0.190215  ...           -0.449143        -0.391230   \n8306              0.004740  ...            0.039896         0.240334   \n8325              0.016013  ...           -0.450650        -0.102575   \n8334              0.187456  ...           -4.105096        -4.463727   \n8339              0.637911  ...           -0.198884         0.387441   \n\n      YNB_PO4_D-ribulose  YNB_PO4_D-xylulose  YNB_PO4_CSM_Galactose  \\\n10             -0.490688           -0.534801              -0.035402   \n12             -0.043478            0.049640              -0.330369   \n16             -0.266397            0.038548               0.024525   \n28             -0.648312            0.551737              -0.069712   \n37             -0.082244           -0.037806              -0.397060   \n...                  ...                 ...                    ...   \n8303           -0.526536           -0.692617              -0.658693   \n8306            0.321752            0.089398              -0.254636   \n8325           -0.311876           -0.298921              -0.471137   \n8334           -0.667114           -4.072184              -0.077310   \n8339            0.593386            0.796064              -0.916582   \n\n      YNB_PO4_CSM_Lactate  YNB_PO4_CSM_Valine  YNB_PO4_CSM_Leucine  \\\n10              -0.427705           -0.143231            -0.240726   \n12              -0.571357           -0.390520            -4.921371   \n16               0.112220           -0.159979            -0.229817   \n28              -0.414340            0.039014            -0.424238   \n37              -0.226573           -0.212943            -0.605702   \n...                   ...                 ...                  ...   \n8303            -0.382288           -0.727372            -0.582871   \n8306            -0.723065           -0.622660            -0.047665   \n8325            -0.915556           -0.221405            -0.589374   \n8334             0.459774            0.053585             0.211604   \n8339             0.477380            0.268669            -0.754837   \n\n      YNB_PO4_CSM_Phenylalanine  genename  \n10                    -0.376989  RT_10010  \n12                    -0.586259  RT_10012  \n16                    -0.086100  RT_10017  \n28                    -1.523899  RT_10029  \n37                    -0.036510  RT_10038  \n...                         ...       ...  \n8303                   0.019887   RT_9959  \n8306                   0.811095   RT_9962  \n8325                  -0.123179   RT_9981  \n8334                  -0.229242   RT_9990  \n8339                  -1.102114   RT_9995  \n\n[720 rows x 29 columns]",
      "text/html": "<div>\n<style scoped>\n    .dataframe tbody tr th:only-of-type {\n        vertical-align: middle;\n    }\n\n    .dataframe tbody tr th {\n        vertical-align: top;\n    }\n\n    .dataframe thead th {\n        text-align: right;\n    }\n</style>\n<table border=\"1\" class=\"dataframe\">\n  <thead>\n    <tr style=\"text-align: right;\">\n      <th></th>\n      <th>RTO4_ID</th>\n      <th>M9_Glucose</th>\n      <th>YNB Glucose</th>\n      <th>YNB Glucose plus Arginine</th>\n      <th>YNB Glucose plus Methionine</th>\n      <th>YNB Glucose plus Dropout Complete</th>\n      <th>Fitness During Lipid Mobilization</th>\n      <th>YNB Oleic Acid</th>\n      <th>YNB Cellobiose</th>\n      <th>YNB_CSM_KPO4 Glucose</th>\n      <th>...</th>\n      <th>YNB_PO4_L-arabitol</th>\n      <th>YNB_PO4_xylitol</th>\n      <th>YNB_PO4_D-ribulose</th>\n      <th>YNB_PO4_D-xylulose</th>\n      <th>YNB_PO4_CSM_Galactose</th>\n      <th>YNB_PO4_CSM_Lactate</th>\n      <th>YNB_PO4_CSM_Valine</th>\n      <th>YNB_PO4_CSM_Leucine</th>\n      <th>YNB_PO4_CSM_Phenylalanine</th>\n      <th>genename</th>\n    </tr>\n  </thead>\n  <tbody>\n    <tr>\n      <th>10</th>\n      <td>10010</td>\n      <td>-0.130360</td>\n      <td>-0.558565</td>\n      <td>-0.332740</td>\n      <td>-0.260252</td>\n      <td>-0.383313</td>\n      <td>-0.030872</td>\n      <td>-0.611898</td>\n      <td>-0.097438</td>\n      <td>-0.035705</td>\n      <td>...</td>\n      <td>-0.732452</td>\n      <td>-0.836823</td>\n      <td>-0.490688</td>\n      <td>-0.534801</td>\n      <td>-0.035402</td>\n      <td>-0.427705</td>\n      <td>-0.143231</td>\n      <td>-0.240726</td>\n      <td>-0.376989</td>\n      <td>RT_10010</td>\n    </tr>\n    <tr>\n      <th>12</th>\n      <td>10012</td>\n      <td>0.120928</td>\n      <td>-0.056685</td>\n      <td>-0.143451</td>\n      <td>-0.205516</td>\n      <td>-0.240177</td>\n      <td>-0.282986</td>\n      <td>-0.039371</td>\n      <td>0.021825</td>\n      <td>-0.185444</td>\n      <td>...</td>\n      <td>-0.185901</td>\n      <td>-0.347117</td>\n      <td>-0.043478</td>\n      <td>0.049640</td>\n      <td>-0.330369</td>\n      <td>-0.571357</td>\n      <td>-0.390520</td>\n      <td>-4.921371</td>\n      <td>-0.586259</td>\n      <td>RT_10012</td>\n    </tr>\n    <tr>\n      <th>16</th>\n      <td>10017</td>\n      <td>-0.117902</td>\n      <td>0.001326</td>\n      <td>0.216430</td>\n      <td>0.169223</td>\n      <td>-0.072431</td>\n      <td>0.382748</td>\n      <td>0.455964</td>\n      <td>0.161420</td>\n      <td>0.012681</td>\n      <td>...</td>\n      <td>0.073421</td>\n      <td>0.076093</td>\n      <td>-0.266397</td>\n      <td>0.038548</td>\n      <td>0.024525</td>\n      <td>0.112220</td>\n      <td>-0.159979</td>\n      <td>-0.229817</td>\n      <td>-0.086100</td>\n      <td>RT_10017</td>\n    </tr>\n    <tr>\n      <th>28</th>\n      <td>10029</td>\n      <td>-0.020871</td>\n      <td>0.052095</td>\n      <td>0.224890</td>\n      <td>0.241546</td>\n      <td>-0.067308</td>\n      <td>0.622053</td>\n      <td>-0.412340</td>\n      <td>0.096512</td>\n      <td>-0.167850</td>\n      <td>...</td>\n      <td>-0.759319</td>\n      <td>-0.288770</td>\n      <td>-0.648312</td>\n      <td>0.551737</td>\n      <td>-0.069712</td>\n      <td>-0.414340</td>\n      <td>0.039014</td>\n      <td>-0.424238</td>\n      <td>-1.523899</td>\n      <td>RT_10029</td>\n    </tr>\n    <tr>\n      <th>37</th>\n      <td>10038</td>\n      <td>-0.365987</td>\n      <td>-0.198609</td>\n      <td>-0.156681</td>\n      <td>0.504791</td>\n      <td>-0.298004</td>\n      <td>-0.330527</td>\n      <td>-0.754754</td>\n      <td>-0.425817</td>\n      <td>-0.064758</td>\n      <td>...</td>\n      <td>0.157148</td>\n      <td>0.081089</td>\n      <td>-0.082244</td>\n      <td>-0.037806</td>\n      <td>-0.397060</td>\n      <td>-0.226573</td>\n      <td>-0.212943</td>\n      <td>-0.605702</td>\n      <td>-0.036510</td>\n      <td>RT_10038</td>\n    </tr>\n    <tr>\n      <th>...</th>\n      <td>...</td>\n      <td>...</td>\n      <td>...</td>\n      <td>...</td>\n      <td>...</td>\n      <td>...</td>\n      <td>...</td>\n      <td>...</td>\n      <td>...</td>\n      <td>...</td>\n      <td>...</td>\n      <td>...</td>\n      <td>...</td>\n      <td>...</td>\n      <td>...</td>\n      <td>...</td>\n      <td>...</td>\n      <td>...</td>\n      <td>...</td>\n      <td>...</td>\n      <td>...</td>\n    </tr>\n    <tr>\n      <th>8303</th>\n      <td>9959</td>\n      <td>-0.496589</td>\n      <td>-0.049252</td>\n      <td>-0.280461</td>\n      <td>-0.192801</td>\n      <td>-0.186293</td>\n      <td>0.094831</td>\n      <td>0.158215</td>\n      <td>-0.052001</td>\n      <td>-0.190215</td>\n      <td>...</td>\n      <td>-0.449143</td>\n      <td>-0.391230</td>\n      <td>-0.526536</td>\n      <td>-0.692617</td>\n      <td>-0.658693</td>\n      <td>-0.382288</td>\n      <td>-0.727372</td>\n      <td>-0.582871</td>\n      <td>0.019887</td>\n      <td>RT_9959</td>\n    </tr>\n    <tr>\n      <th>8306</th>\n      <td>9962</td>\n      <td>-0.102349</td>\n      <td>0.101140</td>\n      <td>0.044222</td>\n      <td>0.206130</td>\n      <td>0.142080</td>\n      <td>0.189212</td>\n      <td>-0.012657</td>\n      <td>-0.097314</td>\n      <td>0.004740</td>\n      <td>...</td>\n      <td>0.039896</td>\n      <td>0.240334</td>\n      <td>0.321752</td>\n      <td>0.089398</td>\n      <td>-0.254636</td>\n      <td>-0.723065</td>\n      <td>-0.622660</td>\n      <td>-0.047665</td>\n      <td>0.811095</td>\n      <td>RT_9962</td>\n    </tr>\n    <tr>\n      <th>8325</th>\n      <td>9981</td>\n      <td>-0.182969</td>\n      <td>-1.210120</td>\n      <td>-1.083946</td>\n      <td>-0.985173</td>\n      <td>-0.844407</td>\n      <td>-0.952909</td>\n      <td>-0.652234</td>\n      <td>0.200798</td>\n      <td>0.016013</td>\n      <td>...</td>\n      <td>-0.450650</td>\n      <td>-0.102575</td>\n      <td>-0.311876</td>\n      <td>-0.298921</td>\n      <td>-0.471137</td>\n      <td>-0.915556</td>\n      <td>-0.221405</td>\n      <td>-0.589374</td>\n      <td>-0.123179</td>\n      <td>RT_9981</td>\n    </tr>\n    <tr>\n      <th>8334</th>\n      <td>9990</td>\n      <td>-0.272603</td>\n      <td>-0.184758</td>\n      <td>0.337242</td>\n      <td>0.525320</td>\n      <td>-0.020653</td>\n      <td>0.544806</td>\n      <td>-0.110552</td>\n      <td>-0.359997</td>\n      <td>0.187456</td>\n      <td>...</td>\n      <td>-4.105096</td>\n      <td>-4.463727</td>\n      <td>-0.667114</td>\n      <td>-4.072184</td>\n      <td>-0.077310</td>\n      <td>0.459774</td>\n      <td>0.053585</td>\n      <td>0.211604</td>\n      <td>-0.229242</td>\n      <td>RT_9990</td>\n    </tr>\n    <tr>\n      <th>8339</th>\n      <td>9995</td>\n      <td>-0.808815</td>\n      <td>-1.067964</td>\n      <td>-1.066192</td>\n      <td>-0.112018</td>\n      <td>NaN</td>\n      <td>0.511979</td>\n      <td>1.222200</td>\n      <td>NaN</td>\n      <td>0.637911</td>\n      <td>...</td>\n      <td>-0.198884</td>\n      <td>0.387441</td>\n      <td>0.593386</td>\n      <td>0.796064</td>\n      <td>-0.916582</td>\n      <td>0.477380</td>\n      <td>0.268669</td>\n      <td>-0.754837</td>\n      <td>-1.102114</td>\n      <td>RT_9995</td>\n    </tr>\n  </tbody>\n</table>\n<p>720 rows × 29 columns</p>\n</div>"
     },
     "execution_count": 88,
     "metadata": {},
     "output_type": "execute_result"
    }
   ],
   "source": [
    "ge_in_our_data.dropna(subset=['M9_Glucose'], inplace=True)\n",
    "ge_in_our_data"
   ]
  },
  {
   "cell_type": "code",
   "execution_count": 89,
   "id": "4cb0002c",
   "metadata": {
    "pycharm": {
     "name": "#%%\n"
    }
   },
   "outputs": [],
   "source": [
    "ge_in_our_data.loc[ge_in_our_data.M9_Glucose<0, 'essential'] = True\n",
    "ge_in_our_data.loc[ge_in_our_data.M9_Glucose>0, 'essential'] = False\n",
    "ge_in_our_data['comment'] = ''\n",
    "ge_in_our_data['gene'] = ge_in_our_data['genename']"
   ]
  },
  {
   "cell_type": "code",
   "execution_count": 90,
   "id": "d44540fb",
   "metadata": {
    "pycharm": {
     "name": "#%%\n"
    }
   },
   "outputs": [
    {
     "data": {
      "text/plain": "          gene essential comment\n10    RT_10010      True        \n12    RT_10012     False        \n16    RT_10017      True        \n28    RT_10029      True        \n37    RT_10038      True        \n...        ...       ...     ...\n8303   RT_9959      True        \n8306   RT_9962      True        \n8325   RT_9981      True        \n8334   RT_9990      True        \n8339   RT_9995      True        \n\n[720 rows x 3 columns]",
      "text/html": "<div>\n<style scoped>\n    .dataframe tbody tr th:only-of-type {\n        vertical-align: middle;\n    }\n\n    .dataframe tbody tr th {\n        vertical-align: top;\n    }\n\n    .dataframe thead th {\n        text-align: right;\n    }\n</style>\n<table border=\"1\" class=\"dataframe\">\n  <thead>\n    <tr style=\"text-align: right;\">\n      <th></th>\n      <th>gene</th>\n      <th>essential</th>\n      <th>comment</th>\n    </tr>\n  </thead>\n  <tbody>\n    <tr>\n      <th>10</th>\n      <td>RT_10010</td>\n      <td>True</td>\n      <td></td>\n    </tr>\n    <tr>\n      <th>12</th>\n      <td>RT_10012</td>\n      <td>False</td>\n      <td></td>\n    </tr>\n    <tr>\n      <th>16</th>\n      <td>RT_10017</td>\n      <td>True</td>\n      <td></td>\n    </tr>\n    <tr>\n      <th>28</th>\n      <td>RT_10029</td>\n      <td>True</td>\n      <td></td>\n    </tr>\n    <tr>\n      <th>37</th>\n      <td>RT_10038</td>\n      <td>True</td>\n      <td></td>\n    </tr>\n    <tr>\n      <th>...</th>\n      <td>...</td>\n      <td>...</td>\n      <td>...</td>\n    </tr>\n    <tr>\n      <th>8303</th>\n      <td>RT_9959</td>\n      <td>True</td>\n      <td></td>\n    </tr>\n    <tr>\n      <th>8306</th>\n      <td>RT_9962</td>\n      <td>True</td>\n      <td></td>\n    </tr>\n    <tr>\n      <th>8325</th>\n      <td>RT_9981</td>\n      <td>True</td>\n      <td></td>\n    </tr>\n    <tr>\n      <th>8334</th>\n      <td>RT_9990</td>\n      <td>True</td>\n      <td></td>\n    </tr>\n    <tr>\n      <th>8339</th>\n      <td>RT_9995</td>\n      <td>True</td>\n      <td></td>\n    </tr>\n  </tbody>\n</table>\n<p>720 rows × 3 columns</p>\n</div>"
     },
     "execution_count": 90,
     "metadata": {},
     "output_type": "execute_result"
    }
   ],
   "source": [
    "ge_for_export = ge_in_our_data[['gene', 'essential','comment']].copy()\n",
    "ge_for_export"
   ]
  },
  {
   "cell_type": "code",
   "execution_count": 91,
   "outputs": [
    {
     "data": {
      "text/plain": "<AxesSubplot: >"
     },
     "execution_count": 91,
     "metadata": {},
     "output_type": "execute_result"
    },
    {
     "data": {
      "text/plain": "<Figure size 640x480 with 1 Axes>",
      "image/png": "[encoded data removed]"
     },
     "metadata": {},
     "output_type": "display_data"
    }
   ],
   "source": [
    "ge_data.M9_Glucose.hist()"
   ],
   "metadata": {
    "collapsed": false,
    "pycharm": {
     "name": "#%%\n"
    }
   }
  },
  {
   "cell_type": "code",
   "execution_count": 91,
   "id": "3cd2ec3c",
   "metadata": {
    "pycharm": {
     "name": "#%%\n"
    }
   },
   "outputs": [],
   "source": []
  },
  {
   "cell_type": "code",
   "execution_count": 92,
   "outputs": [
    {
     "data": {
      "text/plain": "          gene essential comment\n10    RT_10010      True        \n12    RT_10012     False        \n16    RT_10017      True        \n28    RT_10029      True        \n37    RT_10038      True        \n...        ...       ...     ...\n8303   RT_9959      True        \n8306   RT_9962      True        \n8325   RT_9981      True        \n8334   RT_9990      True        \n8339   RT_9995      True        \n\n[720 rows x 3 columns]",
      "text/html": "<div>\n<style scoped>\n    .dataframe tbody tr th:only-of-type {\n        vertical-align: middle;\n    }\n\n    .dataframe tbody tr th {\n        vertical-align: top;\n    }\n\n    .dataframe thead th {\n        text-align: right;\n    }\n</style>\n<table border=\"1\" class=\"dataframe\">\n  <thead>\n    <tr style=\"text-align: right;\">\n      <th></th>\n      <th>gene</th>\n      <th>essential</th>\n      <th>comment</th>\n    </tr>\n  </thead>\n  <tbody>\n    <tr>\n      <th>10</th>\n      <td>RT_10010</td>\n      <td>True</td>\n      <td></td>\n    </tr>\n    <tr>\n      <th>12</th>\n      <td>RT_10012</td>\n      <td>False</td>\n      <td></td>\n    </tr>\n    <tr>\n      <th>16</th>\n      <td>RT_10017</td>\n      <td>True</td>\n      <td></td>\n    </tr>\n    <tr>\n      <th>28</th>\n      <td>RT_10029</td>\n      <td>True</td>\n      <td></td>\n    </tr>\n    <tr>\n      <th>37</th>\n      <td>RT_10038</td>\n      <td>True</td>\n      <td></td>\n    </tr>\n    <tr>\n      <th>...</th>\n      <td>...</td>\n      <td>...</td>\n      <td>...</td>\n    </tr>\n    <tr>\n      <th>8303</th>\n      <td>RT_9959</td>\n      <td>True</td>\n      <td></td>\n    </tr>\n    <tr>\n      <th>8306</th>\n      <td>RT_9962</td>\n      <td>True</td>\n      <td></td>\n    </tr>\n    <tr>\n      <th>8325</th>\n      <td>RT_9981</td>\n      <td>True</td>\n      <td></td>\n    </tr>\n    <tr>\n      <th>8334</th>\n      <td>RT_9990</td>\n      <td>True</td>\n      <td></td>\n    </tr>\n    <tr>\n      <th>8339</th>\n      <td>RT_9995</td>\n      <td>True</td>\n      <td></td>\n    </tr>\n  </tbody>\n</table>\n<p>720 rows × 3 columns</p>\n</div>"
     },
     "execution_count": 92,
     "metadata": {},
     "output_type": "execute_result"
    }
   ],
   "source": [
    "ge_for_export"
   ],
   "metadata": {
    "collapsed": false,
    "pycharm": {
     "name": "#%%\n"
    }
   }
  },
  {
   "cell_type": "code",
   "execution_count": 93,
   "outputs": [
    {
     "data": {
      "text/plain": "          gene Essential    Ess\n0     RT_15174       Yes   True\n1     RT_15278       Yes   True\n2     RT_16786       Yes   True\n3     RT_14470       Yes   True\n4     RT_16628       Yes   True\n...        ...       ...    ...\n8485  RT_16817        No  False\n8486  RT_14437        No  False\n8487  RT_15584        No  False\n8488  RT_10519        No  False\n8489  RT_15096        No  False\n\n[8418 rows x 3 columns]",
      "text/html": "<div>\n<style scoped>\n    .dataframe tbody tr th:only-of-type {\n        vertical-align: middle;\n    }\n\n    .dataframe tbody tr th {\n        vertical-align: top;\n    }\n\n    .dataframe thead th {\n        text-align: right;\n    }\n</style>\n<table border=\"1\" class=\"dataframe\">\n  <thead>\n    <tr style=\"text-align: right;\">\n      <th></th>\n      <th>gene</th>\n      <th>Essential</th>\n      <th>Ess</th>\n    </tr>\n  </thead>\n  <tbody>\n    <tr>\n      <th>0</th>\n      <td>RT_15174</td>\n      <td>Yes</td>\n      <td>True</td>\n    </tr>\n    <tr>\n      <th>1</th>\n      <td>RT_15278</td>\n      <td>Yes</td>\n      <td>True</td>\n    </tr>\n    <tr>\n      <th>2</th>\n      <td>RT_16786</td>\n      <td>Yes</td>\n      <td>True</td>\n    </tr>\n    <tr>\n      <th>3</th>\n      <td>RT_14470</td>\n      <td>Yes</td>\n      <td>True</td>\n    </tr>\n    <tr>\n      <th>4</th>\n      <td>RT_16628</td>\n      <td>Yes</td>\n      <td>True</td>\n    </tr>\n    <tr>\n      <th>...</th>\n      <td>...</td>\n      <td>...</td>\n      <td>...</td>\n    </tr>\n    <tr>\n      <th>8485</th>\n      <td>RT_16817</td>\n      <td>No</td>\n      <td>False</td>\n    </tr>\n    <tr>\n      <th>8486</th>\n      <td>RT_14437</td>\n      <td>No</td>\n      <td>False</td>\n    </tr>\n    <tr>\n      <th>8487</th>\n      <td>RT_15584</td>\n      <td>No</td>\n      <td>False</td>\n    </tr>\n    <tr>\n      <th>8488</th>\n      <td>RT_10519</td>\n      <td>No</td>\n      <td>False</td>\n    </tr>\n    <tr>\n      <th>8489</th>\n      <td>RT_15096</td>\n      <td>No</td>\n      <td>False</td>\n    </tr>\n  </tbody>\n</table>\n<p>8418 rows × 3 columns</p>\n</div>"
     },
     "execution_count": 93,
     "metadata": {},
     "output_type": "execute_result"
    }
   ],
   "source": [
    "ge = pd.read_csv('eLife_essential_genes.txt', delimiter='\\t')\n",
    "ge['gene'] = 'RT_'+ ge['Protein ID'].astype(str)\n",
    "del ge['Protein ID']\n",
    "ge = ge[['gene', 'Essential']]\n",
    "ge.loc[ge.Essential=='No', 'Ess'] = False\n",
    "ge.loc[ge.Essential=='Yes', 'Ess'] = True\n",
    "ge.dropna(subset='Ess', inplace=True)\n",
    "ge"
   ],
   "metadata": {
    "collapsed": false,
    "pycharm": {
     "name": "#%%\n"
    }
   }
  },
  {
   "cell_type": "code",
   "execution_count": 94,
   "outputs": [
    {
     "data": {
      "text/plain": "(1337, 3)"
     },
     "execution_count": 94,
     "metadata": {},
     "output_type": "execute_result"
    }
   ],
   "source": [
    "ge[ge.Ess].shape"
   ],
   "metadata": {
    "collapsed": false,
    "pycharm": {
     "name": "#%%\n"
    }
   }
  },
  {
   "cell_type": "code",
   "execution_count": null,
   "outputs": [],
   "source": [
    "essential = set(ge[ge.Ess].gene)\n",
    "sorted(essential)"
   ],
   "metadata": {
    "collapsed": false,
    "pycharm": {
     "name": "#%%\n"
    }
   }
  },
  {
   "cell_type": "code",
   "execution_count": null,
   "outputs": [],
   "source": [
    "new_ge = pd.DataFrame(index=list(essential.intersection(genes)))\n",
    "new_ge['essential'] = True\n",
    "new_ge"
   ],
   "metadata": {
    "collapsed": false,
    "pycharm": {
     "name": "#%%\n"
    }
   }
  },
  {
   "cell_type": "code",
   "execution_count": null,
   "outputs": [],
   "source": [
    "new_non_ge = pd.DataFrame(index=list(genes.difference(essential)))\n",
    "new_non_ge['essential'] = False\n",
    "new_non_ge"
   ],
   "metadata": {
    "collapsed": false,
    "pycharm": {
     "name": "#%%\n"
    }
   }
  },
  {
   "cell_type": "code",
   "execution_count": null,
   "outputs": [],
   "source": [
    "new_ge_all = pd.concat([new_non_ge, new_ge])\n",
    "new_ge_all"
   ],
   "metadata": {
    "collapsed": false,
    "pycharm": {
     "name": "#%%\n"
    }
   }
  },
  {
   "cell_type": "code",
   "execution_count": null,
   "outputs": [],
   "source": [
    "ge_for_export = new_ge_all.reset_index()"
   ],
   "metadata": {
    "collapsed": false,
    "pycharm": {
     "name": "#%%\n"
    }
   }
  },
  {
   "cell_type": "code",
   "execution_count": 120,
   "outputs": [],
   "source": [
    "ge_for_export['gene'] = ge_for_export['index']\n",
    "del ge_for_export['index']"
   ],
   "metadata": {
    "collapsed": false,
    "pycharm": {
     "name": "#%%\n"
    }
   }
  },
  {
   "cell_type": "code",
   "execution_count": 121,
   "outputs": [],
   "source": [
    "ge_for_export.to_csv('../ge_m9_glucose.csv', index=False)"
   ],
   "metadata": {
    "collapsed": false,
    "pycharm": {
     "name": "#%%\n"
    }
   }
  },
  {
   "cell_type": "code",
   "execution_count": 104,
   "outputs": [
    {
     "data": {
      "text/plain": "['RT_10010',\n 'RT_10012',\n 'RT_10017',\n 'RT_10029',\n 'RT_10038',\n 'RT_10043',\n 'RT_10069',\n 'RT_10104',\n 'RT_10136',\n 'RT_10140',\n 'RT_10149',\n 'RT_10156',\n 'RT_10170',\n 'RT_10182',\n 'RT_10184',\n 'RT_10200',\n 'RT_10205',\n 'RT_10210',\n 'RT_10212',\n 'RT_10218',\n 'RT_10226',\n 'RT_10251',\n 'RT_10264',\n 'RT_10276',\n 'RT_10277',\n 'RT_10292',\n 'RT_10293',\n 'RT_10304',\n 'RT_10308',\n 'RT_10316',\n 'RT_10317',\n 'RT_10331',\n 'RT_10374',\n 'RT_10379',\n 'RT_10380',\n 'RT_10391',\n 'RT_10393',\n 'RT_10408',\n 'RT_10428',\n 'RT_10452',\n 'RT_10455',\n 'RT_10456',\n 'RT_10461',\n 'RT_10469',\n 'RT_10475',\n 'RT_10484',\n 'RT_10490',\n 'RT_10497',\n 'RT_10504',\n 'RT_10514',\n 'RT_10529',\n 'RT_10541',\n 'RT_10551',\n 'RT_10558',\n 'RT_10570',\n 'RT_10572',\n 'RT_10576',\n 'RT_10577',\n 'RT_10583',\n 'RT_10592',\n 'RT_10607',\n 'RT_10614',\n 'RT_10635',\n 'RT_10647',\n 'RT_10658',\n 'RT_10704',\n 'RT_10705',\n 'RT_10722',\n 'RT_10811',\n 'RT_10812',\n 'RT_10841',\n 'RT_10869',\n 'RT_10885',\n 'RT_10921',\n 'RT_10937',\n 'RT_10941',\n 'RT_10946',\n 'RT_10953',\n 'RT_10985',\n 'RT_10989',\n 'RT_10998',\n 'RT_11011',\n 'RT_11017',\n 'RT_11022',\n 'RT_11036',\n 'RT_11039',\n 'RT_11047',\n 'RT_11050',\n 'RT_11075',\n 'RT_11129',\n 'RT_11136',\n 'RT_11137',\n 'RT_11147',\n 'RT_11160',\n 'RT_11167',\n 'RT_11172',\n 'RT_11203',\n 'RT_11205',\n 'RT_11208',\n 'RT_11216',\n 'RT_11257',\n 'RT_11266',\n 'RT_11267',\n 'RT_11269',\n 'RT_11272',\n 'RT_11317',\n 'RT_11332',\n 'RT_11340',\n 'RT_11341',\n 'RT_11343',\n 'RT_11351',\n 'RT_11352',\n 'RT_11362',\n 'RT_11409',\n 'RT_11410',\n 'RT_11420',\n 'RT_11446',\n 'RT_11455',\n 'RT_11463',\n 'RT_11465',\n 'RT_11469',\n 'RT_11486',\n 'RT_11513',\n 'RT_11525',\n 'RT_11543',\n 'RT_11550',\n 'RT_11604',\n 'RT_11623',\n 'RT_11624',\n 'RT_11625',\n 'RT_11642',\n 'RT_11649',\n 'RT_11650',\n 'RT_11661',\n 'RT_11665',\n 'RT_11686',\n 'RT_11723',\n 'RT_11739',\n 'RT_11740',\n 'RT_11741',\n 'RT_11776',\n 'RT_11777',\n 'RT_11787',\n 'RT_11793',\n 'RT_11799',\n 'RT_11802',\n 'RT_11804',\n 'RT_11809',\n 'RT_11833',\n 'RT_11837',\n 'RT_11840',\n 'RT_11849',\n 'RT_11857',\n 'RT_11871',\n 'RT_11873',\n 'RT_11876',\n 'RT_11877',\n 'RT_11882',\n 'RT_11884',\n 'RT_11893',\n 'RT_11907',\n 'RT_11909',\n 'RT_11925',\n 'RT_11952',\n 'RT_11962',\n 'RT_11982',\n 'RT_11989',\n 'RT_11993',\n 'RT_12031',\n 'RT_12032',\n 'RT_12034',\n 'RT_12042',\n 'RT_12051',\n 'RT_12061',\n 'RT_12086',\n 'RT_12096',\n 'RT_12121',\n 'RT_12151',\n 'RT_12154',\n 'RT_12155',\n 'RT_12161',\n 'RT_12210',\n 'RT_12219',\n 'RT_12221',\n 'RT_12248',\n 'RT_12269',\n 'RT_12272',\n 'RT_12302',\n 'RT_12354',\n 'RT_12382',\n 'RT_12384',\n 'RT_12385',\n 'RT_12393',\n 'RT_12407',\n 'RT_12408',\n 'RT_12410',\n 'RT_12428',\n 'RT_12434',\n 'RT_12445',\n 'RT_12476',\n 'RT_12482',\n 'RT_12513',\n 'RT_12543',\n 'RT_12545',\n 'RT_12553',\n 'RT_12555',\n 'RT_12562',\n 'RT_12564',\n 'RT_12565',\n 'RT_12566',\n 'RT_12570',\n 'RT_12594',\n 'RT_12620',\n 'RT_12622',\n 'RT_12623',\n 'RT_12625',\n 'RT_12637',\n 'RT_12639',\n 'RT_12642',\n 'RT_12646',\n 'RT_12680',\n 'RT_12690',\n 'RT_12730',\n 'RT_12740',\n 'RT_12742',\n 'RT_12743',\n 'RT_12748',\n 'RT_12752',\n 'RT_12761',\n 'RT_12778',\n 'RT_12781',\n 'RT_12784',\n 'RT_12795',\n 'RT_12842',\n 'RT_12846',\n 'RT_12867',\n 'RT_12876',\n 'RT_12883',\n 'RT_12898',\n 'RT_12902',\n 'RT_12916',\n 'RT_12920',\n 'RT_12923',\n 'RT_12926',\n 'RT_12950',\n 'RT_12971',\n 'RT_12974',\n 'RT_12976',\n 'RT_12977',\n 'RT_12989',\n 'RT_13007',\n 'RT_13041',\n 'RT_13042',\n 'RT_13048',\n 'RT_13049',\n 'RT_13082',\n 'RT_13087',\n 'RT_13090',\n 'RT_13100',\n 'RT_13105',\n 'RT_13106',\n 'RT_13128',\n 'RT_13143',\n 'RT_13161',\n 'RT_13167',\n 'RT_13172',\n 'RT_13228',\n 'RT_13239',\n 'RT_13262',\n 'RT_13264',\n 'RT_13272',\n 'RT_13287',\n 'RT_13297',\n 'RT_13302',\n 'RT_13319',\n 'RT_13328',\n 'RT_13350',\n 'RT_13369',\n 'RT_13382',\n 'RT_13383',\n 'RT_13385',\n 'RT_13409',\n 'RT_13411',\n 'RT_13412',\n 'RT_13413',\n 'RT_13419',\n 'RT_13423',\n 'RT_13426',\n 'RT_13443',\n 'RT_13444',\n 'RT_13445',\n 'RT_13485',\n 'RT_13486',\n 'RT_13489',\n 'RT_13524',\n 'RT_13539',\n 'RT_13554',\n 'RT_13559',\n 'RT_13562',\n 'RT_13580',\n 'RT_13582',\n 'RT_13603',\n 'RT_13606',\n 'RT_13608',\n 'RT_13609',\n 'RT_13627',\n 'RT_13637',\n 'RT_13641',\n 'RT_13656',\n 'RT_13669',\n 'RT_13670',\n 'RT_13690',\n 'RT_13694',\n 'RT_13700',\n 'RT_13706',\n 'RT_13708',\n 'RT_13709',\n 'RT_13711',\n 'RT_13722',\n 'RT_13733',\n 'RT_13757',\n 'RT_13766',\n 'RT_13771',\n 'RT_13791',\n 'RT_13797',\n 'RT_13813',\n 'RT_13824',\n 'RT_13834',\n 'RT_13840',\n 'RT_13856',\n 'RT_13857',\n 'RT_13900',\n 'RT_13917',\n 'RT_13925',\n 'RT_13947',\n 'RT_13959',\n 'RT_13969',\n 'RT_13986',\n 'RT_13990',\n 'RT_14002',\n 'RT_14014',\n 'RT_14022',\n 'RT_14023',\n 'RT_14036',\n 'RT_14055',\n 'RT_14070',\n 'RT_14108',\n 'RT_14111',\n 'RT_14119',\n 'RT_14129',\n 'RT_14132',\n 'RT_14139',\n 'RT_14158',\n 'RT_14162',\n 'RT_14170',\n 'RT_14195',\n 'RT_14196',\n 'RT_14197',\n 'RT_14213',\n 'RT_14229',\n 'RT_14241',\n 'RT_14245',\n 'RT_14247',\n 'RT_14256',\n 'RT_14281',\n 'RT_14309',\n 'RT_14317',\n 'RT_14324',\n 'RT_14368',\n 'RT_14369',\n 'RT_14436',\n 'RT_14461',\n 'RT_14463',\n 'RT_14465',\n 'RT_14480',\n 'RT_14521',\n 'RT_14541',\n 'RT_14545',\n 'RT_14546',\n 'RT_14558',\n 'RT_14559',\n 'RT_14576',\n 'RT_14585',\n 'RT_14597',\n 'RT_14600',\n 'RT_14602',\n 'RT_14610',\n 'RT_14617',\n 'RT_14623',\n 'RT_14638',\n 'RT_14698',\n 'RT_14724',\n 'RT_14743',\n 'RT_14774',\n 'RT_14788',\n 'RT_14802',\n 'RT_14805',\n 'RT_14826',\n 'RT_14839',\n 'RT_14844',\n 'RT_14853',\n 'RT_14856',\n 'RT_14866',\n 'RT_14878',\n 'RT_14880',\n 'RT_14886',\n 'RT_14900',\n 'RT_14908',\n 'RT_14911',\n 'RT_14925',\n 'RT_14934',\n 'RT_14942',\n 'RT_14950',\n 'RT_14957',\n 'RT_14960',\n 'RT_14979',\n 'RT_15006',\n 'RT_15007',\n 'RT_15008',\n 'RT_15012',\n 'RT_15033',\n 'RT_15037',\n 'RT_15059',\n 'RT_15065',\n 'RT_15066',\n 'RT_15069',\n 'RT_15070',\n 'RT_15074',\n 'RT_15086',\n 'RT_15092',\n 'RT_15095',\n 'RT_15129',\n 'RT_15133',\n 'RT_15156',\n 'RT_15159',\n 'RT_15168',\n 'RT_15169',\n 'RT_15180',\n 'RT_15195',\n 'RT_15218',\n 'RT_15228',\n 'RT_15240',\n 'RT_15248',\n 'RT_15276',\n 'RT_15305',\n 'RT_15324',\n 'RT_15328',\n 'RT_15336',\n 'RT_15340',\n 'RT_15358',\n 'RT_15366',\n 'RT_15385',\n 'RT_15418',\n 'RT_15423',\n 'RT_15425',\n 'RT_15426',\n 'RT_15429',\n 'RT_15430',\n 'RT_15435',\n 'RT_15436',\n 'RT_15438',\n 'RT_15449',\n 'RT_15469',\n 'RT_15470',\n 'RT_15483',\n 'RT_15507',\n 'RT_15534',\n 'RT_15545',\n 'RT_15569',\n 'RT_15575',\n 'RT_15584',\n 'RT_15663',\n 'RT_15693',\n 'RT_15694',\n 'RT_15712',\n 'RT_15713',\n 'RT_15730',\n 'RT_15736',\n 'RT_15744',\n 'RT_15746',\n 'RT_15748',\n 'RT_15758',\n 'RT_15759',\n 'RT_15762',\n 'RT_15783',\n 'RT_15791',\n 'RT_15806',\n 'RT_15807',\n 'RT_15814',\n 'RT_15829',\n 'RT_15839',\n 'RT_15844',\n 'RT_15845',\n 'RT_15856',\n 'RT_15857',\n 'RT_15860',\n 'RT_15874',\n 'RT_15900',\n 'RT_15902',\n 'RT_15905',\n 'RT_15909',\n 'RT_15911',\n 'RT_15923',\n 'RT_15953',\n 'RT_15962',\n 'RT_15982',\n 'RT_15991',\n 'RT_15994',\n 'RT_16011',\n 'RT_16016',\n 'RT_16018',\n 'RT_16019',\n 'RT_16030',\n 'RT_16031',\n 'RT_16046',\n 'RT_16048',\n 'RT_16065',\n 'RT_16088',\n 'RT_16092',\n 'RT_16128',\n 'RT_16182',\n 'RT_16187',\n 'RT_16193',\n 'RT_16196',\n 'RT_16202',\n 'RT_16206',\n 'RT_16208',\n 'RT_16213',\n 'RT_16228',\n 'RT_16253',\n 'RT_16258',\n 'RT_16266',\n 'RT_16267',\n 'RT_16273',\n 'RT_16275',\n 'RT_16276',\n 'RT_16280',\n 'RT_16284',\n 'RT_16287',\n 'RT_16323',\n 'RT_16324',\n 'RT_16330',\n 'RT_16345',\n 'RT_16369',\n 'RT_16452',\n 'RT_16453',\n 'RT_16460',\n 'RT_16462',\n 'RT_16477',\n 'RT_16485',\n 'RT_16503',\n 'RT_16505',\n 'RT_16515',\n 'RT_16520',\n 'RT_16522',\n 'RT_16542',\n 'RT_16549',\n 'RT_16552',\n 'RT_16580',\n 'RT_16581',\n 'RT_16585',\n 'RT_16607',\n 'RT_16618',\n 'RT_16619',\n 'RT_16630',\n 'RT_16635',\n 'RT_16643',\n 'RT_16646',\n 'RT_16648',\n 'RT_16655',\n 'RT_16659',\n 'RT_16682',\n 'RT_16713',\n 'RT_16716',\n 'RT_16717',\n 'RT_16725',\n 'RT_16732',\n 'RT_16736',\n 'RT_16738',\n 'RT_16742',\n 'RT_16758',\n 'RT_16779',\n 'RT_16799',\n 'RT_16850',\n 'RT_8372',\n 'RT_8376',\n 'RT_8399',\n 'RT_8431',\n 'RT_8434',\n 'RT_8441',\n 'RT_8443',\n 'RT_8454',\n 'RT_8456',\n 'RT_8486',\n 'RT_8518',\n 'RT_8530',\n 'RT_8540',\n 'RT_8542',\n 'RT_8548',\n 'RT_8569',\n 'RT_8576',\n 'RT_8580',\n 'RT_8585',\n 'RT_8589',\n 'RT_8601',\n 'RT_8602',\n 'RT_8608',\n 'RT_8613',\n 'RT_8616',\n 'RT_8618',\n 'RT_8631',\n 'RT_8633',\n 'RT_8666',\n 'RT_8692',\n 'RT_8693',\n 'RT_8709',\n 'RT_8725',\n 'RT_8744',\n 'RT_8747',\n 'RT_8766',\n 'RT_8768',\n 'RT_8781',\n 'RT_8789',\n 'RT_8819',\n 'RT_8853',\n 'RT_8885',\n 'RT_8901',\n 'RT_8905',\n 'RT_8932',\n 'RT_8936',\n 'RT_8943',\n 'RT_8959',\n 'RT_8962',\n 'RT_8970',\n 'RT_8972',\n 'RT_8975',\n 'RT_8988',\n 'RT_9011',\n 'RT_9014',\n 'RT_9037',\n 'RT_9050',\n 'RT_9065',\n 'RT_9088',\n 'RT_9102',\n 'RT_9104',\n 'RT_9106',\n 'RT_9113',\n 'RT_9125',\n 'RT_9135',\n 'RT_9137',\n 'RT_9145',\n 'RT_9165',\n 'RT_9166',\n 'RT_9216',\n 'RT_9222',\n 'RT_9244',\n 'RT_9267',\n 'RT_9274',\n 'RT_9277',\n 'RT_9291',\n 'RT_9315',\n 'RT_9319',\n 'RT_9322',\n 'RT_9324',\n 'RT_9326',\n 'RT_9354',\n 'RT_9377',\n 'RT_9394',\n 'RT_9425',\n 'RT_9428',\n 'RT_9434',\n 'RT_9435',\n 'RT_9438',\n 'RT_9457',\n 'RT_9469',\n 'RT_9495',\n 'RT_9499',\n 'RT_9515',\n 'RT_9520',\n 'RT_9531',\n 'RT_9534',\n 'RT_9536',\n 'RT_9537',\n 'RT_9571',\n 'RT_9578',\n 'RT_9596',\n 'RT_9619',\n 'RT_9635',\n 'RT_9636',\n 'RT_9637',\n 'RT_9639',\n 'RT_9644',\n 'RT_9700',\n 'RT_9708',\n 'RT_9711',\n 'RT_9728',\n 'RT_9734',\n 'RT_9746',\n 'RT_9756',\n 'RT_9763',\n 'RT_9771',\n 'RT_9772',\n 'RT_9774',\n 'RT_9805',\n 'RT_9809',\n 'RT_9825',\n 'RT_9829',\n 'RT_9837',\n 'RT_9838',\n 'RT_9841',\n 'RT_9856',\n 'RT_9886',\n 'RT_9912',\n 'RT_9923',\n 'RT_9938',\n 'RT_9959',\n 'RT_9962',\n 'RT_9981',\n 'RT_9990',\n 'RT_9995']"
     },
     "execution_count": 104,
     "metadata": {},
     "output_type": "execute_result"
    }
   ],
   "source": [
    "sorted(set(ge_for_export.gene))"
   ],
   "metadata": {
    "collapsed": false,
    "pycharm": {
     "name": "#%%\n"
    }
   }
  },
  {
   "cell_type": "code",
   "execution_count": 102,
   "outputs": [
    {
     "data": {
      "text/plain": "set()"
     },
     "execution_count": 102,
     "metadata": {},
     "output_type": "execute_result"
    }
   ],
   "source": [
    "set(ge_for_export.gene).intersection(essential)"
   ],
   "metadata": {
    "collapsed": false,
    "pycharm": {
     "name": "#%%\n"
    }
   }
  },
  {
   "cell_type": "code",
   "execution_count": 96,
   "outputs": [
    {
     "data": {
      "text/plain": "Empty DataFrame\nColumns: [gene, essential, comment]\nIndex: []",
      "text/html": "<div>\n<style scoped>\n    .dataframe tbody tr th:only-of-type {\n        vertical-align: middle;\n    }\n\n    .dataframe tbody tr th {\n        vertical-align: top;\n    }\n\n    .dataframe thead th {\n        text-align: right;\n    }\n</style>\n<table border=\"1\" class=\"dataframe\">\n  <thead>\n    <tr style=\"text-align: right;\">\n      <th></th>\n      <th>gene</th>\n      <th>essential</th>\n      <th>comment</th>\n    </tr>\n  </thead>\n  <tbody>\n  </tbody>\n</table>\n</div>"
     },
     "execution_count": 96,
     "metadata": {},
     "output_type": "execute_result"
    }
   ],
   "source": [
    "ge_for_export[ge_for_export.gene.isin(essential)]"
   ],
   "metadata": {
    "collapsed": false,
    "pycharm": {
     "name": "#%%\n"
    }
   }
  },
  {
   "cell_type": "code",
   "execution_count": 97,
   "outputs": [
    {
     "data": {
      "text/plain": "          gene essential comment  Ess\n10    RT_10010      True          NaN\n12    RT_10012     False          NaN\n16    RT_10017      True          NaN\n28    RT_10029      True          NaN\n37    RT_10038      True          NaN\n...        ...       ...     ...  ...\n8303   RT_9959      True          NaN\n8306   RT_9962      True          NaN\n8325   RT_9981      True          NaN\n8334   RT_9990      True          NaN\n8339   RT_9995      True          NaN\n\n[720 rows x 4 columns]",
      "text/html": "<div>\n<style scoped>\n    .dataframe tbody tr th:only-of-type {\n        vertical-align: middle;\n    }\n\n    .dataframe tbody tr th {\n        vertical-align: top;\n    }\n\n    .dataframe thead th {\n        text-align: right;\n    }\n</style>\n<table border=\"1\" class=\"dataframe\">\n  <thead>\n    <tr style=\"text-align: right;\">\n      <th></th>\n      <th>gene</th>\n      <th>essential</th>\n      <th>comment</th>\n      <th>Ess</th>\n    </tr>\n  </thead>\n  <tbody>\n    <tr>\n      <th>10</th>\n      <td>RT_10010</td>\n      <td>True</td>\n      <td></td>\n      <td>NaN</td>\n    </tr>\n    <tr>\n      <th>12</th>\n      <td>RT_10012</td>\n      <td>False</td>\n      <td></td>\n      <td>NaN</td>\n    </tr>\n    <tr>\n      <th>16</th>\n      <td>RT_10017</td>\n      <td>True</td>\n      <td></td>\n      <td>NaN</td>\n    </tr>\n    <tr>\n      <th>28</th>\n      <td>RT_10029</td>\n      <td>True</td>\n      <td></td>\n      <td>NaN</td>\n    </tr>\n    <tr>\n      <th>37</th>\n      <td>RT_10038</td>\n      <td>True</td>\n      <td></td>\n      <td>NaN</td>\n    </tr>\n    <tr>\n      <th>...</th>\n      <td>...</td>\n      <td>...</td>\n      <td>...</td>\n      <td>...</td>\n    </tr>\n    <tr>\n      <th>8303</th>\n      <td>RT_9959</td>\n      <td>True</td>\n      <td></td>\n      <td>NaN</td>\n    </tr>\n    <tr>\n      <th>8306</th>\n      <td>RT_9962</td>\n      <td>True</td>\n      <td></td>\n      <td>NaN</td>\n    </tr>\n    <tr>\n      <th>8325</th>\n      <td>RT_9981</td>\n      <td>True</td>\n      <td></td>\n      <td>NaN</td>\n    </tr>\n    <tr>\n      <th>8334</th>\n      <td>RT_9990</td>\n      <td>True</td>\n      <td></td>\n      <td>NaN</td>\n    </tr>\n    <tr>\n      <th>8339</th>\n      <td>RT_9995</td>\n      <td>True</td>\n      <td></td>\n      <td>NaN</td>\n    </tr>\n  </tbody>\n</table>\n<p>720 rows × 4 columns</p>\n</div>"
     },
     "execution_count": 97,
     "metadata": {},
     "output_type": "execute_result"
    }
   ],
   "source": [
    "# ge_for_export['Ess'] = False\n",
    "ge_for_export.loc[ge_for_export.gene.isin(essential), 'Ess'] = True\n",
    "ge_for_export"
   ],
   "metadata": {
    "collapsed": false,
    "pycharm": {
     "name": "#%%\n"
    }
   }
  },
  {
   "cell_type": "code",
   "execution_count": 98,
   "outputs": [],
   "source": [
    "ge_for_export.to_csv('../ge_m9_glucose.csv', index=False)"
   ],
   "metadata": {
    "collapsed": false,
    "pycharm": {
     "name": "#%%\n"
    }
   }
  },
  {
   "cell_type": "code",
   "execution_count": 99,
   "outputs": [
    {
     "ename": "ValueError",
     "evalue": "columns overlap but no suffix specified: Index(['Ess'], dtype='object')",
     "output_type": "error",
     "traceback": [
      "\u001B[1;31m---------------------------------------------------------------------------\u001B[0m",
      "\u001B[1;31mValueError\u001B[0m                                Traceback (most recent call last)",
      "Cell \u001B[1;32mIn [99], line 1\u001B[0m\n\u001B[1;32m----> 1\u001B[0m \u001B[43mge_for_export\u001B[49m\u001B[38;5;241;43m.\u001B[39;49m\u001B[43mset_index\u001B[49m\u001B[43m(\u001B[49m\u001B[38;5;124;43m'\u001B[39;49m\u001B[38;5;124;43mgene\u001B[39;49m\u001B[38;5;124;43m'\u001B[39;49m\u001B[43m)\u001B[49m\u001B[38;5;241;43m.\u001B[39;49m\u001B[43mjoin\u001B[49m\u001B[43m(\u001B[49m\u001B[43mge\u001B[49m\u001B[38;5;241;43m.\u001B[39;49m\u001B[43mset_index\u001B[49m\u001B[43m(\u001B[49m\u001B[38;5;124;43m'\u001B[39;49m\u001B[38;5;124;43mgene\u001B[39;49m\u001B[38;5;124;43m'\u001B[39;49m\u001B[43m)\u001B[49m\u001B[43m)\u001B[49m\n",
      "File \u001B[1;32m~\\Miniconda3\\envs\\whole-cell-gemm\\lib\\site-packages\\pandas\\core\\frame.py:9966\u001B[0m, in \u001B[0;36mDataFrame.join\u001B[1;34m(self, other, on, how, lsuffix, rsuffix, sort, validate)\u001B[0m\n\u001B[0;32m   9803\u001B[0m \u001B[38;5;28;01mdef\u001B[39;00m \u001B[38;5;21mjoin\u001B[39m(\n\u001B[0;32m   9804\u001B[0m     \u001B[38;5;28mself\u001B[39m,\n\u001B[0;32m   9805\u001B[0m     other: DataFrame \u001B[38;5;241m|\u001B[39m Series \u001B[38;5;241m|\u001B[39m \u001B[38;5;28mlist\u001B[39m[DataFrame \u001B[38;5;241m|\u001B[39m Series],\n\u001B[1;32m   (...)\u001B[0m\n\u001B[0;32m   9811\u001B[0m     validate: \u001B[38;5;28mstr\u001B[39m \u001B[38;5;241m|\u001B[39m \u001B[38;5;28;01mNone\u001B[39;00m \u001B[38;5;241m=\u001B[39m \u001B[38;5;28;01mNone\u001B[39;00m,\n\u001B[0;32m   9812\u001B[0m ) \u001B[38;5;241m-\u001B[39m\u001B[38;5;241m>\u001B[39m DataFrame:\n\u001B[0;32m   9813\u001B[0m     \u001B[38;5;124;03m\"\"\"\u001B[39;00m\n\u001B[0;32m   9814\u001B[0m \u001B[38;5;124;03m    Join columns of another DataFrame.\u001B[39;00m\n\u001B[0;32m   9815\u001B[0m \n\u001B[1;32m   (...)\u001B[0m\n\u001B[0;32m   9964\u001B[0m \u001B[38;5;124;03m    5  K1  A5   B1\u001B[39;00m\n\u001B[0;32m   9965\u001B[0m \u001B[38;5;124;03m    \"\"\"\u001B[39;00m\n\u001B[1;32m-> 9966\u001B[0m     \u001B[38;5;28;01mreturn\u001B[39;00m \u001B[38;5;28;43mself\u001B[39;49m\u001B[38;5;241;43m.\u001B[39;49m\u001B[43m_join_compat\u001B[49m\u001B[43m(\u001B[49m\n\u001B[0;32m   9967\u001B[0m \u001B[43m        \u001B[49m\u001B[43mother\u001B[49m\u001B[43m,\u001B[49m\n\u001B[0;32m   9968\u001B[0m \u001B[43m        \u001B[49m\u001B[43mon\u001B[49m\u001B[38;5;241;43m=\u001B[39;49m\u001B[43mon\u001B[49m\u001B[43m,\u001B[49m\n\u001B[0;32m   9969\u001B[0m \u001B[43m        \u001B[49m\u001B[43mhow\u001B[49m\u001B[38;5;241;43m=\u001B[39;49m\u001B[43mhow\u001B[49m\u001B[43m,\u001B[49m\n\u001B[0;32m   9970\u001B[0m \u001B[43m        \u001B[49m\u001B[43mlsuffix\u001B[49m\u001B[38;5;241;43m=\u001B[39;49m\u001B[43mlsuffix\u001B[49m\u001B[43m,\u001B[49m\n\u001B[0;32m   9971\u001B[0m \u001B[43m        \u001B[49m\u001B[43mrsuffix\u001B[49m\u001B[38;5;241;43m=\u001B[39;49m\u001B[43mrsuffix\u001B[49m\u001B[43m,\u001B[49m\n\u001B[0;32m   9972\u001B[0m \u001B[43m        \u001B[49m\u001B[43msort\u001B[49m\u001B[38;5;241;43m=\u001B[39;49m\u001B[43msort\u001B[49m\u001B[43m,\u001B[49m\n\u001B[0;32m   9973\u001B[0m \u001B[43m        \u001B[49m\u001B[43mvalidate\u001B[49m\u001B[38;5;241;43m=\u001B[39;49m\u001B[43mvalidate\u001B[49m\u001B[43m,\u001B[49m\n\u001B[0;32m   9974\u001B[0m \u001B[43m    \u001B[49m\u001B[43m)\u001B[49m\n",
      "File \u001B[1;32m~\\Miniconda3\\envs\\whole-cell-gemm\\lib\\site-packages\\pandas\\core\\frame.py:10005\u001B[0m, in \u001B[0;36mDataFrame._join_compat\u001B[1;34m(self, other, on, how, lsuffix, rsuffix, sort, validate)\u001B[0m\n\u001B[0;32m   9995\u001B[0m     \u001B[38;5;28;01mif\u001B[39;00m how \u001B[38;5;241m==\u001B[39m \u001B[38;5;124m\"\u001B[39m\u001B[38;5;124mcross\u001B[39m\u001B[38;5;124m\"\u001B[39m:\n\u001B[0;32m   9996\u001B[0m         \u001B[38;5;28;01mreturn\u001B[39;00m merge(\n\u001B[0;32m   9997\u001B[0m             \u001B[38;5;28mself\u001B[39m,\n\u001B[0;32m   9998\u001B[0m             other,\n\u001B[1;32m   (...)\u001B[0m\n\u001B[0;32m  10003\u001B[0m             validate\u001B[38;5;241m=\u001B[39mvalidate,\n\u001B[0;32m  10004\u001B[0m         )\n\u001B[1;32m> 10005\u001B[0m     \u001B[38;5;28;01mreturn\u001B[39;00m \u001B[43mmerge\u001B[49m\u001B[43m(\u001B[49m\n\u001B[0;32m  10006\u001B[0m \u001B[43m        \u001B[49m\u001B[38;5;28;43mself\u001B[39;49m\u001B[43m,\u001B[49m\n\u001B[0;32m  10007\u001B[0m \u001B[43m        \u001B[49m\u001B[43mother\u001B[49m\u001B[43m,\u001B[49m\n\u001B[0;32m  10008\u001B[0m \u001B[43m        \u001B[49m\u001B[43mleft_on\u001B[49m\u001B[38;5;241;43m=\u001B[39;49m\u001B[43mon\u001B[49m\u001B[43m,\u001B[49m\n\u001B[0;32m  10009\u001B[0m \u001B[43m        \u001B[49m\u001B[43mhow\u001B[49m\u001B[38;5;241;43m=\u001B[39;49m\u001B[43mhow\u001B[49m\u001B[43m,\u001B[49m\n\u001B[0;32m  10010\u001B[0m \u001B[43m        \u001B[49m\u001B[43mleft_index\u001B[49m\u001B[38;5;241;43m=\u001B[39;49m\u001B[43mon\u001B[49m\u001B[43m \u001B[49m\u001B[38;5;129;43;01mis\u001B[39;49;00m\u001B[43m \u001B[49m\u001B[38;5;28;43;01mNone\u001B[39;49;00m\u001B[43m,\u001B[49m\n\u001B[0;32m  10011\u001B[0m \u001B[43m        \u001B[49m\u001B[43mright_index\u001B[49m\u001B[38;5;241;43m=\u001B[39;49m\u001B[38;5;28;43;01mTrue\u001B[39;49;00m\u001B[43m,\u001B[49m\n\u001B[0;32m  10012\u001B[0m \u001B[43m        \u001B[49m\u001B[43msuffixes\u001B[49m\u001B[38;5;241;43m=\u001B[39;49m\u001B[43m(\u001B[49m\u001B[43mlsuffix\u001B[49m\u001B[43m,\u001B[49m\u001B[43m \u001B[49m\u001B[43mrsuffix\u001B[49m\u001B[43m)\u001B[49m\u001B[43m,\u001B[49m\n\u001B[0;32m  10013\u001B[0m \u001B[43m        \u001B[49m\u001B[43msort\u001B[49m\u001B[38;5;241;43m=\u001B[39;49m\u001B[43msort\u001B[49m\u001B[43m,\u001B[49m\n\u001B[0;32m  10014\u001B[0m \u001B[43m        \u001B[49m\u001B[43mvalidate\u001B[49m\u001B[38;5;241;43m=\u001B[39;49m\u001B[43mvalidate\u001B[49m\u001B[43m,\u001B[49m\n\u001B[0;32m  10015\u001B[0m \u001B[43m    \u001B[49m\u001B[43m)\u001B[49m\n\u001B[0;32m  10016\u001B[0m \u001B[38;5;28;01melse\u001B[39;00m:\n\u001B[0;32m  10017\u001B[0m     \u001B[38;5;28;01mif\u001B[39;00m on \u001B[38;5;129;01mis\u001B[39;00m \u001B[38;5;129;01mnot\u001B[39;00m \u001B[38;5;28;01mNone\u001B[39;00m:\n",
      "File \u001B[1;32m~\\Miniconda3\\envs\\whole-cell-gemm\\lib\\site-packages\\pandas\\core\\reshape\\merge.py:124\u001B[0m, in \u001B[0;36mmerge\u001B[1;34m(left, right, how, on, left_on, right_on, left_index, right_index, sort, suffixes, copy, indicator, validate)\u001B[0m\n\u001B[0;32m     93\u001B[0m \u001B[38;5;129m@Substitution\u001B[39m(\u001B[38;5;124m\"\u001B[39m\u001B[38;5;130;01m\\n\u001B[39;00m\u001B[38;5;124mleft : DataFrame or named Series\u001B[39m\u001B[38;5;124m\"\u001B[39m)\n\u001B[0;32m     94\u001B[0m \u001B[38;5;129m@Appender\u001B[39m(_merge_doc, indents\u001B[38;5;241m=\u001B[39m\u001B[38;5;241m0\u001B[39m)\n\u001B[0;32m     95\u001B[0m \u001B[38;5;28;01mdef\u001B[39;00m \u001B[38;5;21mmerge\u001B[39m(\n\u001B[1;32m   (...)\u001B[0m\n\u001B[0;32m    108\u001B[0m     validate: \u001B[38;5;28mstr\u001B[39m \u001B[38;5;241m|\u001B[39m \u001B[38;5;28;01mNone\u001B[39;00m \u001B[38;5;241m=\u001B[39m \u001B[38;5;28;01mNone\u001B[39;00m,\n\u001B[0;32m    109\u001B[0m ) \u001B[38;5;241m-\u001B[39m\u001B[38;5;241m>\u001B[39m DataFrame:\n\u001B[0;32m    110\u001B[0m     op \u001B[38;5;241m=\u001B[39m _MergeOperation(\n\u001B[0;32m    111\u001B[0m         left,\n\u001B[0;32m    112\u001B[0m         right,\n\u001B[1;32m   (...)\u001B[0m\n\u001B[0;32m    122\u001B[0m         validate\u001B[38;5;241m=\u001B[39mvalidate,\n\u001B[0;32m    123\u001B[0m     )\n\u001B[1;32m--> 124\u001B[0m     \u001B[38;5;28;01mreturn\u001B[39;00m \u001B[43mop\u001B[49m\u001B[38;5;241;43m.\u001B[39;49m\u001B[43mget_result\u001B[49m\u001B[43m(\u001B[49m\u001B[43mcopy\u001B[49m\u001B[38;5;241;43m=\u001B[39;49m\u001B[43mcopy\u001B[49m\u001B[43m)\u001B[49m\n",
      "File \u001B[1;32m~\\Miniconda3\\envs\\whole-cell-gemm\\lib\\site-packages\\pandas\\core\\reshape\\merge.py:775\u001B[0m, in \u001B[0;36m_MergeOperation.get_result\u001B[1;34m(self, copy)\u001B[0m\n\u001B[0;32m    771\u001B[0m     \u001B[38;5;28mself\u001B[39m\u001B[38;5;241m.\u001B[39mleft, \u001B[38;5;28mself\u001B[39m\u001B[38;5;241m.\u001B[39mright \u001B[38;5;241m=\u001B[39m \u001B[38;5;28mself\u001B[39m\u001B[38;5;241m.\u001B[39m_indicator_pre_merge(\u001B[38;5;28mself\u001B[39m\u001B[38;5;241m.\u001B[39mleft, \u001B[38;5;28mself\u001B[39m\u001B[38;5;241m.\u001B[39mright)\n\u001B[0;32m    773\u001B[0m join_index, left_indexer, right_indexer \u001B[38;5;241m=\u001B[39m \u001B[38;5;28mself\u001B[39m\u001B[38;5;241m.\u001B[39m_get_join_info()\n\u001B[1;32m--> 775\u001B[0m result \u001B[38;5;241m=\u001B[39m \u001B[38;5;28;43mself\u001B[39;49m\u001B[38;5;241;43m.\u001B[39;49m\u001B[43m_reindex_and_concat\u001B[49m\u001B[43m(\u001B[49m\n\u001B[0;32m    776\u001B[0m \u001B[43m    \u001B[49m\u001B[43mjoin_index\u001B[49m\u001B[43m,\u001B[49m\u001B[43m \u001B[49m\u001B[43mleft_indexer\u001B[49m\u001B[43m,\u001B[49m\u001B[43m \u001B[49m\u001B[43mright_indexer\u001B[49m\u001B[43m,\u001B[49m\u001B[43m \u001B[49m\u001B[43mcopy\u001B[49m\u001B[38;5;241;43m=\u001B[39;49m\u001B[43mcopy\u001B[49m\n\u001B[0;32m    777\u001B[0m \u001B[43m\u001B[49m\u001B[43m)\u001B[49m\n\u001B[0;32m    778\u001B[0m result \u001B[38;5;241m=\u001B[39m result\u001B[38;5;241m.\u001B[39m__finalize__(\u001B[38;5;28mself\u001B[39m, method\u001B[38;5;241m=\u001B[39m\u001B[38;5;28mself\u001B[39m\u001B[38;5;241m.\u001B[39m_merge_type)\n\u001B[0;32m    780\u001B[0m \u001B[38;5;28;01mif\u001B[39;00m \u001B[38;5;28mself\u001B[39m\u001B[38;5;241m.\u001B[39mindicator:\n",
      "File \u001B[1;32m~\\Miniconda3\\envs\\whole-cell-gemm\\lib\\site-packages\\pandas\\core\\reshape\\merge.py:729\u001B[0m, in \u001B[0;36m_MergeOperation._reindex_and_concat\u001B[1;34m(self, join_index, left_indexer, right_indexer, copy)\u001B[0m\n\u001B[0;32m    726\u001B[0m left \u001B[38;5;241m=\u001B[39m \u001B[38;5;28mself\u001B[39m\u001B[38;5;241m.\u001B[39mleft[:]\n\u001B[0;32m    727\u001B[0m right \u001B[38;5;241m=\u001B[39m \u001B[38;5;28mself\u001B[39m\u001B[38;5;241m.\u001B[39mright[:]\n\u001B[1;32m--> 729\u001B[0m llabels, rlabels \u001B[38;5;241m=\u001B[39m \u001B[43m_items_overlap_with_suffix\u001B[49m\u001B[43m(\u001B[49m\n\u001B[0;32m    730\u001B[0m \u001B[43m    \u001B[49m\u001B[38;5;28;43mself\u001B[39;49m\u001B[38;5;241;43m.\u001B[39;49m\u001B[43mleft\u001B[49m\u001B[38;5;241;43m.\u001B[39;49m\u001B[43m_info_axis\u001B[49m\u001B[43m,\u001B[49m\u001B[43m \u001B[49m\u001B[38;5;28;43mself\u001B[39;49m\u001B[38;5;241;43m.\u001B[39;49m\u001B[43mright\u001B[49m\u001B[38;5;241;43m.\u001B[39;49m\u001B[43m_info_axis\u001B[49m\u001B[43m,\u001B[49m\u001B[43m \u001B[49m\u001B[38;5;28;43mself\u001B[39;49m\u001B[38;5;241;43m.\u001B[39;49m\u001B[43msuffixes\u001B[49m\n\u001B[0;32m    731\u001B[0m \u001B[43m\u001B[49m\u001B[43m)\u001B[49m\n\u001B[0;32m    733\u001B[0m \u001B[38;5;28;01mif\u001B[39;00m left_indexer \u001B[38;5;129;01mis\u001B[39;00m \u001B[38;5;129;01mnot\u001B[39;00m \u001B[38;5;28;01mNone\u001B[39;00m:\n\u001B[0;32m    734\u001B[0m     \u001B[38;5;66;03m# Pinning the index here (and in the right code just below) is not\u001B[39;00m\n\u001B[0;32m    735\u001B[0m     \u001B[38;5;66;03m#  necessary, but makes the `.take` more performant if we have e.g.\u001B[39;00m\n\u001B[0;32m    736\u001B[0m     \u001B[38;5;66;03m#  a MultiIndex for left.index.\u001B[39;00m\n\u001B[0;32m    737\u001B[0m     lmgr \u001B[38;5;241m=\u001B[39m left\u001B[38;5;241m.\u001B[39m_mgr\u001B[38;5;241m.\u001B[39mreindex_indexer(\n\u001B[0;32m    738\u001B[0m         join_index,\n\u001B[0;32m    739\u001B[0m         left_indexer,\n\u001B[1;32m   (...)\u001B[0m\n\u001B[0;32m    744\u001B[0m         use_na_proxy\u001B[38;5;241m=\u001B[39m\u001B[38;5;28;01mTrue\u001B[39;00m,\n\u001B[0;32m    745\u001B[0m     )\n",
      "File \u001B[1;32m~\\Miniconda3\\envs\\whole-cell-gemm\\lib\\site-packages\\pandas\\core\\reshape\\merge.py:2458\u001B[0m, in \u001B[0;36m_items_overlap_with_suffix\u001B[1;34m(left, right, suffixes)\u001B[0m\n\u001B[0;32m   2455\u001B[0m lsuffix, rsuffix \u001B[38;5;241m=\u001B[39m suffixes\n\u001B[0;32m   2457\u001B[0m \u001B[38;5;28;01mif\u001B[39;00m \u001B[38;5;129;01mnot\u001B[39;00m lsuffix \u001B[38;5;129;01mand\u001B[39;00m \u001B[38;5;129;01mnot\u001B[39;00m rsuffix:\n\u001B[1;32m-> 2458\u001B[0m     \u001B[38;5;28;01mraise\u001B[39;00m \u001B[38;5;167;01mValueError\u001B[39;00m(\u001B[38;5;124mf\u001B[39m\u001B[38;5;124m\"\u001B[39m\u001B[38;5;124mcolumns overlap but no suffix specified: \u001B[39m\u001B[38;5;132;01m{\u001B[39;00mto_rename\u001B[38;5;132;01m}\u001B[39;00m\u001B[38;5;124m\"\u001B[39m)\n\u001B[0;32m   2460\u001B[0m \u001B[38;5;28;01mdef\u001B[39;00m \u001B[38;5;21mrenamer\u001B[39m(x, suffix):\n\u001B[0;32m   2461\u001B[0m     \u001B[38;5;124;03m\"\"\"\u001B[39;00m\n\u001B[0;32m   2462\u001B[0m \u001B[38;5;124;03m    Rename the left and right indices.\u001B[39;00m\n\u001B[0;32m   2463\u001B[0m \n\u001B[1;32m   (...)\u001B[0m\n\u001B[0;32m   2474\u001B[0m \u001B[38;5;124;03m    x : renamed column name\u001B[39;00m\n\u001B[0;32m   2475\u001B[0m \u001B[38;5;124;03m    \"\"\"\u001B[39;00m\n",
      "\u001B[1;31mValueError\u001B[0m: columns overlap but no suffix specified: Index(['Ess'], dtype='object')"
     ]
    }
   ],
   "source": [
    "ge_for_export.set_index('gene').join(ge.set_index('gene'))"
   ],
   "metadata": {
    "collapsed": false,
    "pycharm": {
     "name": "#%%\n"
    }
   }
  },
  {
   "cell_type": "code",
   "execution_count": null,
   "outputs": [],
   "source": [],
   "metadata": {
    "collapsed": false,
    "pycharm": {
     "name": "#%%\n"
    }
   }
  }
 ],
 "metadata": {
  "kernelspec": {
   "display_name": "Python 3 (ipykernel)",
   "language": "python",
   "name": "python3"
  },
  "language_info": {
   "codemirror_mode": {
    "name": "ipython",
    "version": 3
   },
   "file_extension": ".py",
   "mimetype": "text/x-python",
   "name": "python",
   "nbconvert_exporter": "python",
   "pygments_lexer": "ipython3",
   "version": "3.10.6"
  }
 },
 "nbformat": 4,
 "nbformat_minor": 5
}